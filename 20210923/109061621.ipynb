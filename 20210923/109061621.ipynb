{
 "cells": [
  {
   "cell_type": "markdown",
   "source": [
    "# Assignment02: Find Academic Keyword List\n",
    "Academic Keywords are the words we seldom use ordinarily, but often use in Academic articles. \"This shows\" and \"in conclusion\" are examples of Academic Keywords. This assignment want you to use Rank Ratio and compare two dataset to find Academic Keyword List(AKL).\n",
    "<br><br>\n",
    "One dataset is taken from [`British Academic Written English Corpus(BAWE)`](https://www.coventry.ac.uk/research/research-directories/current-projects/2015/british-academic-written-english-corpus-bawe/), which collect a record of proficient university-level student writing. Hence, BAWE can be seen as Academic data. Another one is called [`Web1T`](https://catalog.ldc.upenn.edu/LDC2006T13), which is presented by Google. Web1T colloct 1 trillion words of English Web, so we can treat it as the representative of common words. "
   ],
   "metadata": {}
  },
  {
   "cell_type": "markdown",
   "source": [
    "## N-gram counting\n",
    "This part is almost same as what you need to do in Assignment01. The way to find N-gram is the same as Assignment01. However, tokenization and calculating frequency are a little different. The rules of tokenization in this Assignment are:\n",
    " 1. Ignore case (e.g., \"The\" is the same as \"the\")\n",
    " 2. Split by white spaces <s>and punctuations</s>\n",
    " 3. Ignore all punctuation\n",
    "<br><br>\n",
    "\n",
    "As for calculating frequency, we want you calculating <u>document frequency</u> in this Assignment. <br>What is document frequency? \n",
    "<br>Article 1: \n",
    "> We all know that water masses in the ocean are thought to be transferred by the wind. ...\n",
    "\n",
    "Althought there are at least 2 \"the\" in Article 1, the document frequency of \"the\" is still 1 in this article.<br> No mater how many times does \"the\" show up in Article 1, the document frquency of it is always 1.<br>\n",
    "Article 2: \n",
    "> The film Dantes Peak is about a dormant volcano that suddenly erupts and threatens the nearby town. ...\n",
    "\n",
    "Considering the Article 1 and 2, the document frequency of \"the\" is 2 now.<br>\n",
    "Document frequency can reduce the influence of terms, like \"NLP\".\n",
    "<br><br>\n",
    "<span style=\"color: red\">[ TODO ]</span> Try to modify the functions coded in Assignment01 to <u>calculate document frequencies of all unigram.</u>.\n",
    "\n",
    "Google has calculated the frequency of N-gram, so you only need to do it on BAWE."
   ],
   "metadata": {}
  },
  {
   "cell_type": "code",
   "execution_count": 19,
   "source": [
    "def tokenize(text):\n",
    "    # [ TODO ] transform to lower case\n",
    "    text = text.lower()\n",
    "    # [ TODO ] seperate the words\n",
    "    tokens = re.findall(r\"[\\w]+\", text)\n",
    "    \n",
    "    return tokens"
   ],
   "outputs": [],
   "metadata": {}
  },
  {
   "cell_type": "code",
   "execution_count": 20,
   "source": [
    "def calculate_frequency(tokens, frequency=None):\n",
    "    # [ TODO ]\n",
    "    if frequency == None:\n",
    "        frequency = {}\n",
    "    for t in tokens:\n",
    "        try:\n",
    "            frequency[t] += 1\n",
    "        except:\n",
    "            frequency[t] = 1\n",
    "    \"\"\"\n",
    "    Sample output: \n",
    "    {\n",
    "        'the': 79809, \n",
    "        'project': 288,\n",
    "        ...\n",
    "    }\n",
    "    \"\"\"\n",
    "    return frequency"
   ],
   "outputs": [],
   "metadata": {}
  },
  {
   "cell_type": "code",
   "execution_count": 21,
   "source": [
    "def get_ngram(tokens, n=2):\n",
    "    ... # [ TODO ]\n",
    "    tokens = [tokens[i:i+n] for i in range(len(tokens)) if (i+n-1) <= len(tokens) - 1]\n",
    "    tokens = [' '.join(t) for t in tokens]\n",
    "    \n",
    "    return tokens"
   ],
   "outputs": [],
   "metadata": {}
  },
  {
   "cell_type": "code",
   "execution_count": 22,
   "source": [
    "import os\n",
    "import re"
   ],
   "outputs": [],
   "metadata": {}
  },
  {
   "cell_type": "code",
   "execution_count": 23,
   "source": [
    "file_path = os.path.join('./data', 'BAWE.txt')\n",
    "BAWE_unigram = []\n",
    "#### [ TODO ] calculate document frequency of unigram in BAWE\n",
    "frequency = {}\n",
    "with open(file_path, 'r') as f:\n",
    "    for text in f.readlines():\n",
    "        BAWE_frequency = calculate_frequency(tokenize(text), frequency)\n",
    "        ...\n",
    "..."
   ],
   "outputs": [
    {
     "output_type": "execute_result",
     "data": {
      "text/plain": [
       "Ellipsis"
      ]
     },
     "metadata": {},
     "execution_count": 23
    }
   ],
   "metadata": {}
  },
  {
   "cell_type": "code",
   "execution_count": 24,
   "source": [
    "# Read Web1T Data\n",
    "file_path = os.path.join('data', 'Web1T_unigram.txt')\n",
    "Web1T_unigram_counter = {}\n",
    "with open(file_path, 'r') as f:\n",
    "    for line in f.readlines():\n",
    "        line=line.rstrip(\"\\n\").split(\"\\t\")\n",
    "        Web1T_unigram_counter[line[0]] = int(line[1])"
   ],
   "outputs": [],
   "metadata": {}
  },
  {
   "cell_type": "markdown",
   "source": [
    "## Rank\n",
    "Rank unigrms by their frequencies. The higher the frequency, the higher the rank.(The most frequent unigram ranks 1.)<br>\n",
    "<span style=\"color: red\">[ TODO ]</span> <u>Rank unigrams for Web1T and BAWE.</u>."
   ],
   "metadata": {}
  },
  {
   "cell_type": "code",
   "execution_count": 25,
   "source": [
    "Web1T_unigram_Rank = {}\n",
    "#### [ TODO ] Rank unigrams for Web1T\n",
    "Web1T_sorted = {k: v for k, v in sorted(Web1T_unigram_counter.items(), key=lambda item: item[1], reverse=True)}\n",
    "rank, number = 0, 1e200\n",
    "for k in Web1T_sorted:\n",
    "    if Web1T_sorted[k] < number:\n",
    "        rank += 1\n",
    "    Web1T_unigram_Rank[k] = rank\n",
    "    number = Web1T_sorted[k]"
   ],
   "outputs": [],
   "metadata": {}
  },
  {
   "cell_type": "code",
   "execution_count": 26,
   "source": [
    "BAWE_unigram_Rank = {}\n",
    "#### [ TODO ] Rank unigrams for BAWE\n",
    "BAWE_sorted = {k: v for k, v in sorted(BAWE_frequency.items(), key=lambda item: item[1], reverse=True)}\n",
    "rank, number = 0, 1e200\n",
    "for k in BAWE_sorted:\n",
    "    if BAWE_sorted[k] < number:\n",
    "        rank += 1\n",
    "    BAWE_unigram_Rank[k] = rank\n",
    "    number = BAWE_sorted[k]"
   ],
   "outputs": [],
   "metadata": {}
  },
  {
   "cell_type": "markdown",
   "source": [
    "## Calculate Rank Ratio\n",
    "In this step, you need to map the same unigram in two dataset, and caalculate the Rank Ratio of unigram in BAWE.  <br>Please follow the formula for calculating Rank Ratio:<br> \n",
    "<br>\n",
    "<img src=\"https://imgur.com/vmK7Q1K.jpg\" width=30%><br>\n",
    "If the unigram doesn't appear in Web1T, the rank of it is treated as 1.\n",
    "\n",
    "<span style=\"color: red\">[ TODO ]</span> Please calculate all rank ratios of unigrams in BAWE."
   ],
   "metadata": {}
  },
  {
   "cell_type": "code",
   "execution_count": 30,
   "source": [
    "#### [TODO] calculate all rank ratios of unigrams in BAWE\n",
    "ranking_ratio = {}\n",
    "for k in BAWE_unigram_Rank:\n",
    "    try:\n",
    "        ratio = Web1T_unigram_Rank[k] / BAWE_unigram_Rank[k]\n",
    "    except:\n",
    "        ratio = 1 / BAWE_unigram_Rank[k]\n",
    "    ranking_ratio[k] = ratio"
   ],
   "outputs": [],
   "metadata": {}
  },
  {
   "cell_type": "markdown",
   "source": [
    "## sort the result\n",
    "<span style=\"color: red\">[ TODO ]</span> Please show top 30 uigrams in Rank Ratio and the value of their Rank Ratio in this format: \n",
    "<br>\n",
    "<img src=\"https://imgur.com/AEkiCRr.jpg\" width=50%>"
   ],
   "metadata": {}
  },
  {
   "cell_type": "code",
   "execution_count": 31,
   "source": [
    "#### [ TODO ] show the result\n",
    "sorted_ranking_ratio = {k: v for k, v in sorted(ranking_ratio.items(), key=lambda item: item[1], reverse=True)}\n",
    "rank, fill = 1, ' '\n",
    "print(f'{\"Rank\":{fill}{\"<\"}{6}}', f'{\"unigram\":{fill}{\"<\"}{40}}', f'{\"Rank Ratio\":{fill}{\"<\"}{20}}')\n",
    "for k in sorted_ranking_ratio:\n",
    "    print(f'{str(rank):{fill}{\"<\"}{6}}', f'{k:{fill}{\"<\"}{40}}', f'{sorted_ranking_ratio[k]:{fill}{\"<\"}{20}}')\n",
    "    rank += 1\n",
    "    if rank > 30:\n",
    "        break\n"
   ],
   "outputs": [
    {
     "output_type": "stream",
     "name": "stdout",
     "text": [
      "Rank   unigram                                  Rank Ratio          \n",
      "1      cannot                                   366.7116104868914   \n",
      "2      renold                                   113.28504672897196  \n",
      "3      ranke                                    110.16201550387596  \n",
      "4      svevo                                    108.53014553014553  \n",
      "5      radstone                                 107.66619418851879  \n",
      "6      pentheus                                 107.63617606602476  \n",
      "7      trudgill                                 107.62141357592722  \n",
      "8      suli                                     107.32174505794137  \n",
      "9      cfdt                                     107.32108843537415  \n",
      "10     blastomere                               106.86747802569303  \n",
      "11     execration                               106.81283783783783  \n",
      "12     endosymbiotic                            106.796875          \n",
      "13     anarchical                               106.537517053206    \n",
      "14     pearlite                                 106.35449020931803  \n",
      "15     retscreen                                106.19060402684563  \n",
      "16     rojek                                    106.11058981233244  \n",
      "17     merseytravel                             105.85520054384773  \n",
      "18     wicki                                    105.8467202141901   \n",
      "19     sibilance                                105.74699599465954  \n",
      "20     taylorism                                105.63097643097643  \n",
      "21     swinnen                                  105.61796246648794  \n",
      "22     animacy                                  105.59530201342282  \n",
      "23     thurner                                  105.54041416165664  \n",
      "24     vaporisation                             105.45739014647137  \n",
      "25     craib                                    105.43527833668679  \n",
      "26     peccei                                   105.43408788282291  \n",
      "27     antemortem                               105.39920159680639  \n",
      "28     aegisthus                                105.35219707057257  \n",
      "29     tennenhouse                              105.30559254327564  \n",
      "30     generalisability                         105.29773030707611  \n"
     ]
    }
   ],
   "metadata": {}
  },
  {
   "cell_type": "markdown",
   "source": [
    "## for Bigrams\n",
    "<span style=\"color: red\">[ TODO ]</span> Do the Same Thing for Bigrams"
   ],
   "metadata": {}
  },
  {
   "cell_type": "code",
   "execution_count": 32,
   "source": [
    "#### [TODO]\n",
    "file_path = os.path.join('./data', 'BAWE.txt')\n",
    "#### [ TODO ] calculate document frequency of bigram in BAWE\n",
    "frequency = {}\n",
    "with open(file_path, 'r') as f:\n",
    "    for text in f.readlines():\n",
    "        BAWE_frequency_bigram = calculate_frequency(get_ngram(tokenize(text), n=2), frequency)\n",
    "\n",
    "# Read Web1T Data\n",
    "file_path = os.path.join('data', 'Web1T_bigram.txt')\n",
    "Web1T_bigram_counter = {}\n",
    "with open(file_path, 'r') as f:\n",
    "    for line in f.readlines():\n",
    "        line=line.rstrip(\"\\n\").split(\"\\t\")\n",
    "        Web1T_bigram_counter[line[0]] = int(line[1])\n",
    "\n",
    "Web1T_bigram_Rank = {}\n",
    "#### [ TODO ] Rank bigrams for Web1T\n",
    "Web1T_sorted = {k: v for k, v in sorted(Web1T_bigram_counter.items(), key=lambda item: item[1], reverse=True)}\n",
    "rank, number = 0, 1e200\n",
    "for k in Web1T_sorted:\n",
    "    if Web1T_sorted[k] < number:\n",
    "        rank += 1\n",
    "    Web1T_bigram_Rank[k] = rank\n",
    "    number = Web1T_sorted[k]\n",
    "\n",
    "BAWE_bigram_Rank = {}\n",
    "#### [ TODO ] Rank unigrams for BAWE\n",
    "BAWE_sorted = {k: v for k, v in sorted(BAWE_frequency_bigram.items(), key=lambda item: item[1], reverse=True)}\n",
    "rank, number = 0, 1e200\n",
    "for k in BAWE_sorted:\n",
    "    if BAWE_sorted[k] < number:\n",
    "        rank += 1\n",
    "    BAWE_bigram_Rank[k] = rank\n",
    "    number = BAWE_sorted[k]\n",
    "\n",
    "#### [TODO] calculate all rank ratios of bigrams in BAWE\n",
    "ranking_ratio_bigram = {}\n",
    "for k in BAWE_bigram_Rank:\n",
    "    try:\n",
    "        ratio = Web1T_bigram_Rank[k] / BAWE_bigram_Rank[k]\n",
    "    except:\n",
    "        ratio = 1 / BAWE_bigram_Rank[k]\n",
    "    ranking_ratio_bigram[k] = ratio\n",
    "\n",
    "#### [ TODO ] show the result\n",
    "sorted_ranking_ratio_bi = {k: v for k, v in sorted(ranking_ratio_bigram.items(), key=lambda item: item[1], reverse=True)}\n",
    "rank, fill = 1, ' '\n",
    "print(f'{\"Rank\":{fill}{\"<\"}{6}}', f'{\"bigram\":{fill}{\"<\"}{40}}', f'{\"Rank Ratio\":{fill}{\"<\"}{20}}')\n",
    "for k in sorted_ranking_ratio_bi:\n",
    "    print(f'{str(rank):{fill}{\"<\"}{6}}', f'{k:{fill}{\"<\"}{40}}', f'{sorted_ranking_ratio_bi[k]:{fill}{\"<\"}{20}}')\n",
    "    rank += 1\n",
    "    if rank > 30:\n",
    "        break"
   ],
   "outputs": [
    {
     "output_type": "stream",
     "name": "stdout",
     "text": [
      "Rank   bigram                                   Rank Ratio          \n",
      "1      the european                             567.6981132075472   \n",
      "2      women s                                  524.6126984126984   \n",
      "3      op cit                                   440.2632794457275   \n",
      "4      the british                              420.01428571428573  \n",
      "5      in conclusion                            337.35701906412476  \n",
      "6      however the                              311.46              \n",
      "7      however this                             296.2120343839542   \n",
      "8      see appendix                             291.43993506493507  \n",
      "9      however in                               271.05236486486484  \n",
      "10     this essay                               259.22105263157897  \n",
      "11     world bank                               258.94823232323233  \n",
      "12     it s                                     253.07894736842104  \n",
      "13     s life                                   248.0936018957346   \n",
      "14     the uk                                   241.81578947368422  \n",
      "15     east asia                                241.14850299401198  \n",
      "16     al the                                   237.44521337946944  \n",
      "17     analysis the                             233.51794258373207  \n",
      "18     method the                               233.07060185185185  \n",
      "19     health inequalities                      232.85972850678732  \n",
      "20     s work                                   232.63989637305698  \n",
      "21     this suggests                            231.7686274509804   \n",
      "22     that god                                 226.96377607025246  \n",
      "23     marketing mix                            226.04084014002333  \n",
      "24     however he                               222.94124168514412  \n",
      "25     the u                                    222.66053921568627  \n",
      "26     the christian                            222.20851063829787  \n",
      "27     thus there                               222.18971061093248  \n",
      "28     product the                              222.15148188803514  \n",
      "29     m s                                      221.89761904761906  \n",
      "30     free range                               220.8521739130435   \n"
     ]
    }
   ],
   "metadata": {}
  },
  {
   "cell_type": "markdown",
   "source": [
    "## TA's Notes\n",
    "\n",
    "If you complete the Assignment, please use [this link](https://docs.google.com/spreadsheets/d/1QGeYl5dsD9sFO9SYg4DIKk-xr-yGjRDOOLKZqCLDv2E/edit#gid=40492256) to reserve demo time.  \n",
    "The score is only given after TAs review your implementation, so <u>**make sure you make a appointment with a TA before you miss the deadline**</u> .  <br>After demo, please upload your assignment to eeclass. You just need to hand in this ipynb file and rename it as XXXXXXXXX(Your student ID).ipynb.\n",
    "<br>Note that **late submission will not be allowed**.  "
   ],
   "metadata": {}
  }
 ],
 "metadata": {
  "kernelspec": {
   "name": "python3",
   "display_name": "Python 3.7.11 64-bit ('nlp': conda)"
  },
  "language_info": {
   "codemirror_mode": {
    "name": "ipython",
    "version": 3
   },
   "file_extension": ".py",
   "mimetype": "text/x-python",
   "name": "python",
   "nbconvert_exporter": "python",
   "pygments_lexer": "ipython3",
   "version": "3.7.11"
  },
  "interpreter": {
   "hash": "f8407c4e4ad4e83fbda062738558f90c8a1755d9eaef2b10bf00fe3f026ecca1"
  }
 },
 "nbformat": 4,
 "nbformat_minor": 4
}