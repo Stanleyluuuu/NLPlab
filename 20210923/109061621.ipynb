{
 "cells": [
  {
   "cell_type": "markdown",
   "source": [
    "# Assignment02: Find Academic Keyword List\n",
    "Academic Keywords are the words we seldom use ordinarily, but often use in Academic articles. \"This shows\" and \"in conclusion\" are examples of Academic Keywords. This assignment want you to use Rank Ratio and compare two dataset to find Academic Keyword List(AKL).\n",
    "<br><br>\n",
    "One dataset is taken from [`British Academic Written English Corpus(BAWE)`](https://www.coventry.ac.uk/research/research-directories/current-projects/2015/british-academic-written-english-corpus-bawe/), which collect a record of proficient university-level student writing. Hence, BAWE can be seen as Academic data. Another one is called [`Web1T`](https://catalog.ldc.upenn.edu/LDC2006T13), which is presented by Google. Web1T colloct 1 trillion words of English Web, so we can treat it as the representative of common words. "
   ],
   "metadata": {}
  },
  {
   "cell_type": "markdown",
   "source": [
    "## N-gram counting\n",
    "This part is almost same as what you need to do in Assignment01. The way to find N-gram is the same as Assignment01. However, tokenization and calculating frequency are a little different. The rules of tokenization in this Assignment are:\n",
    " 1. Ignore case (e.g., \"The\" is the same as \"the\")\n",
    " 2. Split by white spaces <s>and punctuations</s>\n",
    " 3. Ignore all punctuation\n",
    "<br><br>\n",
    "\n",
    "As for calculating frequency, we want you calculating <u>document frequency</u> in this Assignment. <br>What is document frequency? \n",
    "<br>Article 1: \n",
    "> We all know that water masses in the ocean are thought to be transferred by the wind. ...\n",
    "\n",
    "Althought there are at least 2 \"the\" in Article 1, the document frequency of \"the\" is still 1 in this article.<br> No mater how many times does \"the\" show up in Article 1, the document frquency of it is always 1.<br>\n",
    "Article 2: \n",
    "> The film Dantes Peak is about a dormant volcano that suddenly erupts and threatens the nearby town. ...\n",
    "\n",
    "Considering the Article 1 and 2, the document frequency of \"the\" is 2 now.<br>\n",
    "Document frequency can reduce the influence of terms, like \"NLP\".\n",
    "<br><br>\n",
    "<span style=\"color: red\">[ TODO ]</span> Try to modify the functions coded in Assignment01 to <u>calculate document frequencies of all unigram.</u>.\n",
    "\n",
    "Google has calculated the frequency of N-gram, so you only need to do it on BAWE."
   ],
   "metadata": {}
  },
  {
   "cell_type": "code",
   "execution_count": 1,
   "source": [
    "def tokenize(text):\n",
    "    # [ TODO ] transform to lower case\n",
    "    text = text.lower()\n",
    "    # [ TODO ] seperate the words\n",
    "    tokens = re.findall(r\"[\\w]+\", text)\n",
    "    \n",
    "    return tokens"
   ],
   "outputs": [],
   "metadata": {}
  },
  {
   "cell_type": "code",
   "execution_count": 2,
   "source": [
    "def calculate_frequency(tokens):\n",
    "    frequency = {}\n",
    "    for t in tokens: frequency[t] = 1\n",
    "    \"\"\"\n",
    "    Sample output: \n",
    "    {\n",
    "        'the': 79809, \n",
    "        'project': 288,\n",
    "        ...\n",
    "    }\n",
    "    \"\"\"\n",
    "    return frequency"
   ],
   "outputs": [],
   "metadata": {}
  },
  {
   "cell_type": "code",
   "execution_count": 3,
   "source": [
    "def get_ngram(tokens, n=2):\n",
    "    ... # [ TODO ]\n",
    "    tokens = [tokens[i:i+n] for i in range(len(tokens)) if (i+n-1) <= len(tokens) - 1]\n",
    "    tokens = [' '.join(t) for t in tokens]\n",
    "    \n",
    "    return tokens"
   ],
   "outputs": [],
   "metadata": {}
  },
  {
   "cell_type": "code",
   "execution_count": 4,
   "source": [
    "import os\n",
    "import re"
   ],
   "outputs": [],
   "metadata": {}
  },
  {
   "cell_type": "code",
   "execution_count": 5,
   "source": [
    "file_path = os.path.join('./data', 'BAWE.txt')\n",
    "BAWE_unigram = []\n",
    "#### [ TODO ] calculate document frequency of unigram in BAWE\n",
    "BAWE_frequency = {}\n",
    "with open(file_path, 'r') as f:\n",
    "    for text in f.readlines():\n",
    "        for sen in text.split(\".\"):\n",
    "            frequency = calculate_frequency(tokenize(sen))\n",
    "            for b in frequency:\n",
    "                try:\n",
    "                    BAWE_frequency[b] += 1\n",
    "                except:\n",
    "                    BAWE_frequency[b] = 1\n",
    "        ...\n",
    "..."
   ],
   "outputs": [
    {
     "output_type": "execute_result",
     "data": {
      "text/plain": [
       "Ellipsis"
      ]
     },
     "metadata": {},
     "execution_count": 5
    }
   ],
   "metadata": {}
  },
  {
   "cell_type": "code",
   "execution_count": 6,
   "source": [
    "# Read Web1T Data\n",
    "file_path = os.path.join('data', 'Web1T_unigram.txt')\n",
    "Web1T_unigram_counter = {}\n",
    "with open(file_path, 'r') as f:\n",
    "    for line in f.readlines():\n",
    "        line=line.rstrip(\"\\n\").split(\"\\t\")\n",
    "        Web1T_unigram_counter[line[0]] = int(line[1])"
   ],
   "outputs": [],
   "metadata": {}
  },
  {
   "cell_type": "markdown",
   "source": [
    "## Rank\n",
    "Rank unigrms by their frequencies. The higher the frequency, the higher the rank.(The most frequent unigram ranks 1.)<br>\n",
    "<span style=\"color: red\">[ TODO ]</span> <u>Rank unigrams for Web1T and BAWE.</u>."
   ],
   "metadata": {}
  },
  {
   "cell_type": "code",
   "execution_count": 7,
   "source": [
    "Web1T_unigram_Rank = {}\n",
    "#### [ TODO ] Rank unigrams for Web1T\n",
    "Web1T_sorted = {k: v for k, v in sorted(Web1T_unigram_counter.items(), key=lambda item: item[1], reverse=True)}\n",
    "rank, number = 0, 1e200\n",
    "for k in Web1T_sorted:\n",
    "    if Web1T_sorted[k] < number:\n",
    "        rank += 1\n",
    "    Web1T_unigram_Rank[k] = rank\n",
    "    number = Web1T_sorted[k]"
   ],
   "outputs": [],
   "metadata": {}
  },
  {
   "cell_type": "code",
   "execution_count": 8,
   "source": [
    "BAWE_unigram_Rank = {}\n",
    "#### [ TODO ] Rank unigrams for BAWE\n",
    "BAWE_sorted = {k: v for k, v in sorted(BAWE_frequency.items(), key=lambda item: item[1], reverse=True)}\n",
    "rank, number = 0, 1e200\n",
    "for k in BAWE_sorted:\n",
    "    if BAWE_sorted[k] < number:\n",
    "        rank += 1\n",
    "    BAWE_unigram_Rank[k] = rank\n",
    "    number = BAWE_sorted[k]"
   ],
   "outputs": [],
   "metadata": {}
  },
  {
   "cell_type": "markdown",
   "source": [
    "## Calculate Rank Ratio\n",
    "In this step, you need to map the same unigram in two dataset, and caalculate the Rank Ratio of unigram in BAWE.  <br>Please follow the formula for calculating Rank Ratio:<br> \n",
    "<br>\n",
    "<img src=\"https://imgur.com/vmK7Q1K.jpg\" width=30%><br>\n",
    "If the unigram doesn't appear in Web1T, the rank of it is treated as 1.\n",
    "\n",
    "<span style=\"color: red\">[ TODO ]</span> Please calculate all rank ratios of unigrams in BAWE."
   ],
   "metadata": {}
  },
  {
   "cell_type": "code",
   "execution_count": 9,
   "source": [
    "#### [TODO] calculate all rank ratios of unigrams in BAWE\n",
    "ranking_ratio = {}\n",
    "for k in BAWE_unigram_Rank:\n",
    "    try:\n",
    "        ratio = Web1T_unigram_Rank[k] / BAWE_unigram_Rank[k]\n",
    "    except:\n",
    "        ratio = 1 / BAWE_unigram_Rank[k]\n",
    "    ranking_ratio[k] = ratio"
   ],
   "outputs": [],
   "metadata": {}
  },
  {
   "cell_type": "markdown",
   "source": [
    "## sort the result\n",
    "<span style=\"color: red\">[ TODO ]</span> Please show top 30 uigrams in Rank Ratio and the value of their Rank Ratio in this format: \n",
    "<br>\n",
    "<img src=\"https://imgur.com/AEkiCRr.jpg\" width=50%>"
   ],
   "metadata": {}
  },
  {
   "cell_type": "code",
   "execution_count": 10,
   "source": [
    "#### [ TODO ] show the result\n",
    "sorted_ranking_ratio = {k: v for k, v in sorted(ranking_ratio.items(), key=lambda item: item[1], reverse=True)}\n",
    "rank, fill = 1, ' '\n",
    "print(f'{\"Rank\":{fill}{\"<\"}{6}}', f'{\"unigram\":{fill}{\"<\"}{40}}', f'{\"Rank Ratio\":{fill}{\"<\"}{20}}')\n",
    "for k in sorted_ranking_ratio:\n",
    "    print(f'{str(rank):{fill}{\"<\"}{6}}', f'{k:{fill}{\"<\"}{40}}', f'{sorted_ranking_ratio[k]:{fill}{\"<\"}{20}}')\n",
    "    rank += 1\n",
    "    if rank > 30:\n",
    "        break\n"
   ],
   "outputs": [
    {
     "output_type": "stream",
     "name": "stdout",
     "text": [
      "Rank   unigram                                  Rank Ratio          \n",
      "1      cannot                                   393.22088353413653  \n",
      "2      renold                                   110.8673780487805   \n",
      "3      svevo                                    108.30497925311204  \n",
      "4      pentheus                                 108.23167358229598  \n",
      "5      radstone                                 108.20299145299145  \n",
      "6      ranke                                    108.06768060836502  \n",
      "7      trudgill                                 107.99929775280899  \n",
      "8      suli                                     107.91021247429747  \n",
      "9      cfdt                                     107.83458646616542  \n",
      "10     blastomere                               107.59496255956432  \n",
      "11     endosymbiotic                            107.52735978112175  \n",
      "12     execration                               107.4663494221618   \n",
      "13     pearlite                                 107.00475543478261  \n",
      "14     anarchical                               106.97534246575343  \n",
      "15     rojek                                    106.97094594594594  \n",
      "16     retscreen                                106.90810810810811  \n",
      "17     wicki                                    106.63182737693863  \n",
      "18     sibilance                                106.60094212651413  \n",
      "19     swinnen                                  106.47432432432433  \n",
      "20     merseytravel                             106.43403964456596  \n",
      "21     thurner                                  106.393265993266    \n",
      "22     animacy                                  106.38066260987154  \n",
      "23     taylorism                                106.34711864406779  \n",
      "24     vaporisation                             106.30671140939597  \n",
      "25     craib                                    106.29073698444896  \n",
      "26     antemortem                               106.24748490945674  \n",
      "27     peccei                                   106.21193829644534  \n",
      "28     aegisthus                                106.20067114093959  \n",
      "29     tennenhouse                              106.15369127516779  \n",
      "30     generalisability                         106.14804845222072  \n"
     ]
    }
   ],
   "metadata": {}
  },
  {
   "cell_type": "markdown",
   "source": [
    "## for Bigrams\n",
    "<span style=\"color: red\">[ TODO ]</span> Do the Same Thing for Bigrams"
   ],
   "metadata": {}
  },
  {
   "cell_type": "code",
   "execution_count": 11,
   "source": [
    "#### [TODO]\n",
    "file_path = os.path.join('./data', 'BAWE.txt')\n",
    "#### [ TODO ] calculate document frequency of bigram in BAWE\n",
    "frequency = {}\n",
    "BAWE_frequency_bigram = {}\n",
    "with open(file_path, 'r') as f:\n",
    "    for text in f.readlines():\n",
    "        for sen in text.split(\".\"):\n",
    "            frequency = calculate_frequency(get_ngram(tokenize(sen), n=2))\n",
    "            for b in frequency:\n",
    "                try:\n",
    "                    BAWE_frequency_bigram[b] += 1\n",
    "                except:\n",
    "                    BAWE_frequency_bigram[b] = 1\n",
    "\n",
    "# Read Web1T Data\n",
    "file_path = os.path.join('data', 'Web1T_bigram.txt')\n",
    "Web1T_bigram_counter = {}\n",
    "with open(file_path, 'r') as f:\n",
    "    for line in f.readlines():\n",
    "        line=line.rstrip(\"\\n\").split(\"\\t\")\n",
    "        Web1T_bigram_counter[line[0]] = int(line[1])\n",
    "\n",
    "Web1T_bigram_Rank = {}\n",
    "#### [ TODO ] Rank bigrams for Web1T\n",
    "Web1T_sorted = {k: v for k, v in sorted(Web1T_bigram_counter.items(), key=lambda item: item[1], reverse=True)}\n",
    "rank, number = 0, 1e200\n",
    "for k in Web1T_sorted:\n",
    "    if Web1T_sorted[k] < number:\n",
    "        rank += 1\n",
    "    Web1T_bigram_Rank[k] = rank\n",
    "    number = Web1T_sorted[k]\n",
    "\n",
    "BAWE_bigram_Rank = {}\n",
    "#### [ TODO ] Rank unigrams for BAWE\n",
    "BAWE_sorted = {k: v for k, v in sorted(BAWE_frequency_bigram.items(), key=lambda item: item[1], reverse=True)}\n",
    "rank, number = 0, 1e200\n",
    "for k in BAWE_sorted:\n",
    "    if BAWE_sorted[k] < number:\n",
    "        rank += 1\n",
    "    BAWE_bigram_Rank[k] = rank\n",
    "    number = BAWE_sorted[k]\n",
    "\n",
    "#### [TODO] calculate all rank ratios of bigrams in BAWE\n",
    "ranking_ratio_bigram = {}\n",
    "for k in BAWE_bigram_Rank:\n",
    "    try:\n",
    "        ratio = Web1T_bigram_Rank[k] / BAWE_bigram_Rank[k]\n",
    "    except:\n",
    "        ratio = 1 / BAWE_bigram_Rank[k]\n",
    "    ranking_ratio_bigram[k] = ratio\n",
    "\n",
    "#### [ TODO ] show the result\n",
    "sorted_ranking_ratio_bi = {k: v for k, v in sorted(ranking_ratio_bigram.items(), key=lambda item: item[1], reverse=True)}\n",
    "rank, fill = 1, ' '\n",
    "print(f'{\"Rank\":{fill}{\"<\"}{6}}', f'{\"bigram\":{fill}{\"<\"}{40}}', f'{\"Rank Ratio\":{fill}{\"<\"}{20}}')\n",
    "for k in sorted_ranking_ratio_bi:\n",
    "    print(f'{str(rank):{fill}{\"<\"}{6}}', f'{k:{fill}{\"<\"}{40}}', f'{sorted_ranking_ratio_bi[k]:{fill}{\"<\"}{20}}')\n",
    "    rank += 1\n",
    "    if rank > 30:\n",
    "        break"
   ],
   "outputs": [
    {
     "output_type": "stream",
     "name": "stdout",
     "text": [
      "Rank   bigram                                   Rank Ratio          \n",
      "1      the european                             507.1011235955056   \n",
      "2      women s                                  487.4719764011799   \n",
      "3      the british                              404.33595284872297  \n",
      "4      in conclusion                            348.8440860215054   \n",
      "5      however this                             317.11042944785277  \n",
      "6      however the                              314.6060606060606   \n",
      "7      see appendix                             297.2301324503311   \n",
      "8      however in                               280.04013961605585  \n",
      "9      this essay                               270.61538461538464  \n",
      "10     world bank                               263.26957637997435  \n",
      "11     it s                                     254.90843373493976  \n",
      "12     s life                                   254.4240583232078   \n",
      "13     east asia                                245.26065773447016  \n",
      "14     this suggests                            238.31048387096774  \n",
      "15     s work                                   237.24966974900926  \n",
      "16     al the                                   235.54347826086956  \n",
      "17     the uk                                   234.11464968152868  \n",
      "18     health inequalities                      232.85972850678732  \n",
      "19     that god                                 231.02122905027932  \n",
      "20     marketing mix                            229.2508875739645   \n",
      "21     analysis the                             228.596018735363    \n",
      "22     the u                                    228.54213836477987  \n",
      "23     op cit                                   227.75866188769413  \n",
      "24     thus there                               227.3059210526316   \n",
      "25     however he                               227.22372881355932  \n",
      "26     the christian                            226.7926167209555   \n",
      "27     method the                               226.7713963963964   \n",
      "28     free range                               225.25942350332593  \n",
      "29     the metropolis                           224.47058823529412  \n",
      "30     t test                                   224.04461371055496  \n"
     ]
    }
   ],
   "metadata": {}
  },
  {
   "cell_type": "markdown",
   "source": [
    "## TA's Notes\n",
    "\n",
    "If you complete the Assignment, please use [this link](https://docs.google.com/spreadsheets/d/1QGeYl5dsD9sFO9SYg4DIKk-xr-yGjRDOOLKZqCLDv2E/edit#gid=40492256) to reserve demo time.  \n",
    "The score is only given after TAs review your implementation, so <u>**make sure you make a appointment with a TA before you miss the deadline**</u> .  <br>After demo, please upload your assignment to eeclass. You just need to hand in this ipynb file and rename it as XXXXXXXXX(Your student ID).ipynb.\n",
    "<br>Note that **late submission will not be allowed**.  "
   ],
   "metadata": {}
  }
 ],
 "metadata": {
  "kernelspec": {
   "name": "python3",
   "display_name": "Python 3.7.11 64-bit ('nlp': conda)"
  },
  "language_info": {
   "codemirror_mode": {
    "name": "ipython",
    "version": 3
   },
   "file_extension": ".py",
   "mimetype": "text/x-python",
   "name": "python",
   "nbconvert_exporter": "python",
   "pygments_lexer": "ipython3",
   "version": "3.7.11"
  },
  "interpreter": {
   "hash": "f8407c4e4ad4e83fbda062738558f90c8a1755d9eaef2b10bf00fe3f026ecca1"
  }
 },
 "nbformat": 4,
 "nbformat_minor": 4
}