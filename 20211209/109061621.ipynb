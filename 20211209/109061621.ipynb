{
 "cells": [
  {
   "cell_type": "markdown",
   "metadata": {
    "id": "skPDgNS58rFf"
   },
   "source": [
    "# Week 13: Example Sentences Classification\n",
    "In the last two assignment, we use deep learning method to do classification task. We can get good result by deep learning, but we can hardly explain the classification result(i.e., we don't know why the phrase is classified as \"good\" phrase). Hence, in this assignment, we want you do classification again, but do it by traditional machine learning method. In this way, you can know *why* more. We want you implement this on example sentences(e.g., \"This song has a brilliant piano intro.\" for word \"brilliant\").\n",
    "\n",
    "[Here](https://drive.google.com/drive/folders/1ij20ecLlI1Zh5CdMAa91SXQzmpKfdBdJ?usp=sharing) are two files needed for this task: **train.jsonl** & **test.jsonl**. In these files, each line records one example sentence with its label. There're two types of labels: ***positive*** means it's *good* example sentence;  ***negative*** means it's *bad* example sentence."
   ]
  },
  {
   "cell_type": "markdown",
   "metadata": {
    "id": "e3jvUPRw8rFi"
   },
   "source": [
    "## Read Data\n",
    "We use dataframe to keep data in this assignment."
   ]
  },
  {
   "cell_type": "code",
   "execution_count": 1,
   "metadata": {
    "id": "dtHcqH788rFj"
   },
   "outputs": [],
   "source": [
    "import json\n",
    "import pandas as pd"
   ]
  },
  {
   "cell_type": "code",
   "execution_count": 2,
   "metadata": {
    "id": "IMYSnsTm8rFk"
   },
   "outputs": [],
   "source": [
    "def read_data_to_df(path):\n",
    "    labels, sentences = [], []\n",
    "    with open(path, 'r') as f:\n",
    "        for line in f.readlines():\n",
    "            line = json.loads(line)\n",
    "            sentences.append(line['text']), labels.append(line['label'])\n",
    "    return pd.DataFrame({'sent':sentences, 'label':labels})  "
   ]
  },
  {
   "cell_type": "code",
   "execution_count": 3,
   "metadata": {
    "id": "fiO7gnYN8rFl",
    "outputId": "40fed14f-db99-4b3d-fdba-c877a45eb12d"
   },
   "outputs": [
    {
     "name": "stdout",
     "output_type": "stream",
     "text": [
      "                                                sent     label\n",
      "0         My children threw a birthday party for me.  positive\n",
      "1  Marketing on social networking sites is a fast...  positive\n",
      "2                You pillock, look what you've done!  positive\n",
      "3      He scored three touchdowns early in the game.  positive\n",
      "4          His abrupt manner makes me uncomfortable.  positive\n",
      "                                                sent     label\n",
      "0  I've just spotted Mark - he's over there, near...  positive\n",
      "1  After repricing, the bonds yield a much higher...  positive\n",
      "2             I admire her staunchness and fidelity.  positive\n",
      "3  The party's leader is in favour of the treaty ...  positive\n",
      "4  About 20 companies are working on treatments f...  positive\n"
     ]
    }
   ],
   "source": [
    "train = read_data_to_df('data/train.jsonl')\n",
    "print(train.head())\n",
    "test = read_data_to_df('data/test.jsonl')\n",
    "print(test.head())"
   ]
  },
  {
   "cell_type": "markdown",
   "metadata": {
    "id": "fYwKypbh8rFm"
   },
   "source": [
    "## Extract Features\n",
    "Traditional machine learning need data scientists to observe data and find out some useful information. \n",
    "\n",
    "Here is an example:"
   ]
  },
  {
   "cell_type": "code",
   "execution_count": 4,
   "metadata": {
    "id": "8KEgpP2J8rFm",
    "outputId": "36c2567b-2ef3-4b4f-c51e-f2a1053c4093"
   },
   "outputs": [
    {
     "name": "stdout",
     "output_type": "stream",
     "text": [
      "0.1658252289596287\n"
     ]
    }
   ],
   "source": [
    "import re\n",
    "# for positive\n",
    "spec, count = 0, 0\n",
    "for i in train[train['label'] == \"positive\"][\"sent\"]:\n",
    "    if len(re.sub('[\\w\\s]','',i)) > 2: spec+=1\n",
    "    count+=1\n",
    "print(spec/count)"
   ]
  },
  {
   "cell_type": "code",
   "execution_count": 5,
   "metadata": {
    "id": "EF-utx8V8rFn",
    "outputId": "045da3bf-2ddf-4a3b-a7a8-69a3a7d4fb0e"
   },
   "outputs": [
    {
     "name": "stdout",
     "output_type": "stream",
     "text": [
      "0.5131938403308762\n"
     ]
    }
   ],
   "source": [
    "spec, count = 0, 0\n",
    "for i in train[train['label'] == \"negative\"][\"sent\"]:\n",
    "    if len(re.sub('[\\w\\s]', '', i)) > 2: spec+=1\n",
    "    count+=1\n",
    "print(spec/count)"
   ]
  },
  {
   "cell_type": "markdown",
   "metadata": {
    "id": "hjjEz-ft8rFo"
   },
   "source": [
    "After some experiment, we found 38% of bad example sentences have more than 3 punctuations. In contrast, only 5.8% of good example sentences have more than 3 punctuations. Hence, it seems that it is a nice feature to distinguish good and bad example sentences, so we add this feature."
   ]
  },
  {
   "cell_type": "code",
   "execution_count": 6,
   "metadata": {
    "id": "Xui1SJQH8rFo"
   },
   "outputs": [],
   "source": [
    "train[\"more than n punc\"] = [len(re.sub('[\\w\\s]','',i)) for i in train[\"sent\"]]\n",
    "test[\"more than n punc\"] = [len(re.sub('[\\w\\s]','',i)) for i in test[\"sent\"]]"
   ]
  },
  {
   "cell_type": "code",
   "execution_count": 7,
   "metadata": {
    "id": "NRWFCH6g8rFo",
    "outputId": "3dac5009-7cf5-404e-c168-6787a7578bd3"
   },
   "outputs": [
    {
     "data": {
      "text/html": [
       "<div>\n",
       "<style scoped>\n",
       "    .dataframe tbody tr th:only-of-type {\n",
       "        vertical-align: middle;\n",
       "    }\n",
       "\n",
       "    .dataframe tbody tr th {\n",
       "        vertical-align: top;\n",
       "    }\n",
       "\n",
       "    .dataframe thead th {\n",
       "        text-align: right;\n",
       "    }\n",
       "</style>\n",
       "<table border=\"1\" class=\"dataframe\">\n",
       "  <thead>\n",
       "    <tr style=\"text-align: right;\">\n",
       "      <th></th>\n",
       "      <th>sent</th>\n",
       "      <th>label</th>\n",
       "      <th>more than n punc</th>\n",
       "    </tr>\n",
       "  </thead>\n",
       "  <tbody>\n",
       "    <tr>\n",
       "      <th>0</th>\n",
       "      <td>My children threw a birthday party for me.</td>\n",
       "      <td>positive</td>\n",
       "      <td>1</td>\n",
       "    </tr>\n",
       "    <tr>\n",
       "      <th>1</th>\n",
       "      <td>Marketing on social networking sites is a fast...</td>\n",
       "      <td>positive</td>\n",
       "      <td>2</td>\n",
       "    </tr>\n",
       "    <tr>\n",
       "      <th>2</th>\n",
       "      <td>You pillock, look what you've done!</td>\n",
       "      <td>positive</td>\n",
       "      <td>3</td>\n",
       "    </tr>\n",
       "    <tr>\n",
       "      <th>3</th>\n",
       "      <td>He scored three touchdowns early in the game.</td>\n",
       "      <td>positive</td>\n",
       "      <td>1</td>\n",
       "    </tr>\n",
       "    <tr>\n",
       "      <th>4</th>\n",
       "      <td>His abrupt manner makes me uncomfortable.</td>\n",
       "      <td>positive</td>\n",
       "      <td>1</td>\n",
       "    </tr>\n",
       "  </tbody>\n",
       "</table>\n",
       "</div>"
      ],
      "text/plain": [
       "                                                sent     label  \\\n",
       "0         My children threw a birthday party for me.  positive   \n",
       "1  Marketing on social networking sites is a fast...  positive   \n",
       "2                You pillock, look what you've done!  positive   \n",
       "3      He scored three touchdowns early in the game.  positive   \n",
       "4          His abrupt manner makes me uncomfortable.  positive   \n",
       "\n",
       "   more than n punc  \n",
       "0                 1  \n",
       "1                 2  \n",
       "2                 3  \n",
       "3                 1  \n",
       "4                 1  "
      ]
     },
     "execution_count": 7,
     "metadata": {},
     "output_type": "execute_result"
    }
   ],
   "source": [
    "train.head()"
   ]
  },
  {
   "cell_type": "markdown",
   "metadata": {
    "id": "DqcP3Ddv8rFp"
   },
   "source": [
    "<font color=\"red\">**[ TODO ]**</font> Please observe the data and extract at least three features and add them to the dataframe."
   ]
  },
  {
   "cell_type": "code",
   "execution_count": 8,
   "metadata": {
    "id": "s3Gfv_Je8rFp"
   },
   "outputs": [],
   "source": [
    "# Adding more than n words 1\n",
    "n = 18\n",
    "train[\"more than n words\"] = [0 if len(re.findall(r'\\w+', i)) >= n else 1 for i in train[\"sent\"]]\n",
    "test[\"more than n words\"] = [0 if len(re.findall(r'\\w+', i)) >= n else 1 for i in test[\"sent\"]]\n",
    "# Adding more than n capital 2\n",
    "n = 1\n",
    "train[\"more than n capital\"] = [0 if sum([1 if i.istitle() else 0 for i in sen.split()]) > n else 1 for sen in train[\"sent\"]]\n",
    "test[\"more than n capital\"] = [0 if sum([1 if i.istitle() else 0 for i in sen.split()]) > n else 1 for sen in test[\"sent\"]]\n",
    "# Adding more than n common 3\n",
    "n = 0\n",
    "train[\"more than n common\"] = [0 if len(re.findall(r'\\,', i)) > n else 1 for i in train[\"sent\"]]\n",
    "test[\"more than n common\"] = [0 if len(re.findall(r'\\,', i)) > n else 1 for i in test[\"sent\"]]\n",
    "# Adding more than n period 4\n",
    "n = 2\n",
    "train[\"more than n period\"] = [0 if len(re.findall(r'\\.', i)) > n else 1 for i in train[\"sent\"]]\n",
    "test[\"more than n period\"] = [0 if len(re.findall(r'\\.', i)) > n else 1 for i in test[\"sent\"]]\n",
    "# Adding more than n equal 5\n",
    "n = 0\n",
    "train[\"more than n equal\"] = [0 if len(re.findall(r'\\=', i)) > n else 1 for i in train[\"sent\"]]\n",
    "test[\"more than n equal\"] = [0 if len(re.findall(r'\\=', i)) > n else 1 for i in test[\"sent\"]]\n",
    "# Adding more than n ( 6\n",
    "n = 0\n",
    "train[\"more than n (\"] = [0 if len(re.findall(r'\\(', i)) > n else 1 for i in train[\"sent\"]]\n",
    "test[\"more than n (\"] = [0 if len(re.findall(r'\\(', i)) > n else 1 for i in test[\"sent\"]]\n",
    "# Adding more than n quotation 7\n",
    "train[\"more than n quotation\"] = [len(re.findall(r'\\\"', i)) for i in train[\"sent\"]]\n",
    "test[\"more than n quotation\"] = [len(re.findall(r'\\\"', i)) for i in test[\"sent\"]]\n",
    "# Adding more than n space 8\n",
    "n = 2\n",
    "train[\"more than n space\"] = [0 if len(re.findall(r'\\ ', i)) > n else 1 for i in train[\"sent\"]]\n",
    "test[\"more than n space\"] = [0 if len(re.findall(r'\\ ', i)) > n else 1 for i in test[\"sent\"]]\n",
    "# Adding more than n question 9\n",
    "n = 0\n",
    "train[\"more than n question\"] = [0 if len(re.findall(r'\\?', i)) > n else 1 for i in train[\"sent\"]]\n",
    "test[\"more than n question\"] = [0 if len(re.findall(r'\\?', i)) > n else 1 for i in test[\"sent\"]]\n",
    "# Adding more than n digit 10\n",
    "n = 1\n",
    "train[\"more than n digit\"] = [0 if len([num for num in re.findall('\\d+', re.sub(r'[^\\w\\s]', '', sen)) if len(num) > 3]) > n else 1 for sen in train[\"sent\"]]\n",
    "test[\"more than n digit\"] = [0 if len([num for num in re.findall('\\d+', re.sub(r'[^\\w\\s]', '', sen)) if len(num) > 3]) > n else 1 for sen in test[\"sent\"]]\n",
    "# Adding more than n money 11\n",
    "n = 0\n",
    "train[\"more than n money\"] = [0 if len(re.findall(r\"\\d*[%$£]+\\d*\", sen)) > n else 1 for sen in train[\"sent\"]]\n",
    "test[\"more than n money\"] = [0 if len(re.findall(r\"\\d*[%$£]+\\d*\", sen)) > n else 1 for sen in test[\"sent\"]]\n",
    "# Adding more than n colon 12\n",
    "n = 0\n",
    "train[\"more than n colon\"] = [0 if len(re.findall(r'\\:', i)) > n else 1 for i in train[\"sent\"]]\n",
    "test[\"more than n colon\"] = [0 if len(re.findall(r'\\:', i)) > n else 1 for i in test[\"sent\"]]"
   ]
  },
  {
   "cell_type": "code",
   "execution_count": 9,
   "metadata": {},
   "outputs": [
    {
     "data": {
      "text/html": [
       "<div>\n",
       "<style scoped>\n",
       "    .dataframe tbody tr th:only-of-type {\n",
       "        vertical-align: middle;\n",
       "    }\n",
       "\n",
       "    .dataframe tbody tr th {\n",
       "        vertical-align: top;\n",
       "    }\n",
       "\n",
       "    .dataframe thead th {\n",
       "        text-align: right;\n",
       "    }\n",
       "</style>\n",
       "<table border=\"1\" class=\"dataframe\">\n",
       "  <thead>\n",
       "    <tr style=\"text-align: right;\">\n",
       "      <th></th>\n",
       "      <th>sent</th>\n",
       "      <th>label</th>\n",
       "      <th>more than n punc</th>\n",
       "      <th>more than n words</th>\n",
       "      <th>more than n capital</th>\n",
       "      <th>more than n common</th>\n",
       "      <th>more than n period</th>\n",
       "      <th>more than n equal</th>\n",
       "      <th>more than n (</th>\n",
       "      <th>more than n quotation</th>\n",
       "      <th>more than n space</th>\n",
       "      <th>more than n question</th>\n",
       "      <th>more than n digit</th>\n",
       "      <th>more than n money</th>\n",
       "      <th>more than n colon</th>\n",
       "    </tr>\n",
       "  </thead>\n",
       "  <tbody>\n",
       "    <tr>\n",
       "      <th>0</th>\n",
       "      <td>My children threw a birthday party for me.</td>\n",
       "      <td>positive</td>\n",
       "      <td>1</td>\n",
       "      <td>1</td>\n",
       "      <td>1</td>\n",
       "      <td>1</td>\n",
       "      <td>1</td>\n",
       "      <td>1</td>\n",
       "      <td>1</td>\n",
       "      <td>0</td>\n",
       "      <td>0</td>\n",
       "      <td>1</td>\n",
       "      <td>1</td>\n",
       "      <td>1</td>\n",
       "      <td>1</td>\n",
       "    </tr>\n",
       "    <tr>\n",
       "      <th>1</th>\n",
       "      <td>Marketing on social networking sites is a fast...</td>\n",
       "      <td>positive</td>\n",
       "      <td>2</td>\n",
       "      <td>1</td>\n",
       "      <td>1</td>\n",
       "      <td>1</td>\n",
       "      <td>1</td>\n",
       "      <td>1</td>\n",
       "      <td>1</td>\n",
       "      <td>0</td>\n",
       "      <td>0</td>\n",
       "      <td>1</td>\n",
       "      <td>1</td>\n",
       "      <td>1</td>\n",
       "      <td>1</td>\n",
       "    </tr>\n",
       "    <tr>\n",
       "      <th>2</th>\n",
       "      <td>You pillock, look what you've done!</td>\n",
       "      <td>positive</td>\n",
       "      <td>3</td>\n",
       "      <td>1</td>\n",
       "      <td>1</td>\n",
       "      <td>0</td>\n",
       "      <td>1</td>\n",
       "      <td>1</td>\n",
       "      <td>1</td>\n",
       "      <td>0</td>\n",
       "      <td>0</td>\n",
       "      <td>1</td>\n",
       "      <td>1</td>\n",
       "      <td>1</td>\n",
       "      <td>1</td>\n",
       "    </tr>\n",
       "    <tr>\n",
       "      <th>3</th>\n",
       "      <td>He scored three touchdowns early in the game.</td>\n",
       "      <td>positive</td>\n",
       "      <td>1</td>\n",
       "      <td>1</td>\n",
       "      <td>1</td>\n",
       "      <td>1</td>\n",
       "      <td>1</td>\n",
       "      <td>1</td>\n",
       "      <td>1</td>\n",
       "      <td>0</td>\n",
       "      <td>0</td>\n",
       "      <td>1</td>\n",
       "      <td>1</td>\n",
       "      <td>1</td>\n",
       "      <td>1</td>\n",
       "    </tr>\n",
       "    <tr>\n",
       "      <th>4</th>\n",
       "      <td>His abrupt manner makes me uncomfortable.</td>\n",
       "      <td>positive</td>\n",
       "      <td>1</td>\n",
       "      <td>1</td>\n",
       "      <td>1</td>\n",
       "      <td>1</td>\n",
       "      <td>1</td>\n",
       "      <td>1</td>\n",
       "      <td>1</td>\n",
       "      <td>0</td>\n",
       "      <td>0</td>\n",
       "      <td>1</td>\n",
       "      <td>1</td>\n",
       "      <td>1</td>\n",
       "      <td>1</td>\n",
       "    </tr>\n",
       "  </tbody>\n",
       "</table>\n",
       "</div>"
      ],
      "text/plain": [
       "                                                sent     label  \\\n",
       "0         My children threw a birthday party for me.  positive   \n",
       "1  Marketing on social networking sites is a fast...  positive   \n",
       "2                You pillock, look what you've done!  positive   \n",
       "3      He scored three touchdowns early in the game.  positive   \n",
       "4          His abrupt manner makes me uncomfortable.  positive   \n",
       "\n",
       "   more than n punc  more than n words  more than n capital  \\\n",
       "0                 1                  1                    1   \n",
       "1                 2                  1                    1   \n",
       "2                 3                  1                    1   \n",
       "3                 1                  1                    1   \n",
       "4                 1                  1                    1   \n",
       "\n",
       "   more than n common  more than n period  more than n equal  more than n (  \\\n",
       "0                   1                   1                  1              1   \n",
       "1                   1                   1                  1              1   \n",
       "2                   0                   1                  1              1   \n",
       "3                   1                   1                  1              1   \n",
       "4                   1                   1                  1              1   \n",
       "\n",
       "   more than n quotation  more than n space  more than n question  \\\n",
       "0                      0                  0                     1   \n",
       "1                      0                  0                     1   \n",
       "2                      0                  0                     1   \n",
       "3                      0                  0                     1   \n",
       "4                      0                  0                     1   \n",
       "\n",
       "   more than n digit  more than n money  more than n colon  \n",
       "0                  1                  1                  1  \n",
       "1                  1                  1                  1  \n",
       "2                  1                  1                  1  \n",
       "3                  1                  1                  1  \n",
       "4                  1                  1                  1  "
      ]
     },
     "execution_count": 9,
     "metadata": {},
     "output_type": "execute_result"
    }
   ],
   "source": [
    "train.head()"
   ]
  },
  {
   "cell_type": "markdown",
   "metadata": {
    "id": "JjzzDXsV8rFp"
   },
   "source": [
    "## Train\n",
    "Now, it's time to evaluate whether the features just selected is useful to classify. We use [Bernoulli Naive Bayes model](https://scikit-learn.org/stable/modules/naive_bayes.html#bernoulli-naive-bayes) to train training data. "
   ]
  },
  {
   "cell_type": "code",
   "execution_count": 10,
   "metadata": {
    "id": "gGec8PDW8rFq"
   },
   "outputs": [],
   "source": [
    "from sklearn.naive_bayes import BernoulliNB\n",
    "bnb = BernoulliNB()"
   ]
  },
  {
   "cell_type": "markdown",
   "metadata": {
    "id": "IffCrLvf8rFq"
   },
   "source": [
    "<font color=\"red\">**[ TODO ]**</font> Please adjust the `selected_features` list and train the model.\n",
    "\n",
    "***Don't*** use other model in this assignment."
   ]
  },
  {
   "cell_type": "code",
   "execution_count": 11,
   "metadata": {
    "id": "UBazhh0x8rFq"
   },
   "outputs": [
    {
     "name": "stdout",
     "output_type": "stream",
     "text": [
      "        more than n punc  more than n words  more than n capital  \\\n",
      "0                      1                  1                    1   \n",
      "1                      2                  1                    1   \n",
      "2                      3                  1                    1   \n",
      "3                      1                  1                    1   \n",
      "4                      1                  1                    1   \n",
      "...                  ...                ...                  ...   \n",
      "243943                 7                  1                    0   \n",
      "243944                11                  0                    0   \n",
      "243945                 2                  1                    0   \n",
      "243946                13                  0                    0   \n",
      "243947                 5                  1                    1   \n",
      "\n",
      "        more than n common  more than n period  more than n equal  \\\n",
      "0                        1                   1                  1   \n",
      "1                        1                   1                  1   \n",
      "2                        0                   1                  1   \n",
      "3                        1                   1                  1   \n",
      "4                        1                   1                  1   \n",
      "...                    ...                 ...                ...   \n",
      "243943                   0                   1                  1   \n",
      "243944                   0                   1                  1   \n",
      "243945                   1                   1                  1   \n",
      "243946                   0                   1                  0   \n",
      "243947                   0                   1                  1   \n",
      "\n",
      "        more than n (  more than n quotation  more than n space  \\\n",
      "0                   1                      0                  0   \n",
      "1                   1                      0                  0   \n",
      "2                   1                      0                  0   \n",
      "3                   1                      0                  0   \n",
      "4                   1                      0                  0   \n",
      "...               ...                    ...                ...   \n",
      "243943              0                      0                  0   \n",
      "243944              0                      0                  0   \n",
      "243945              1                      0                  0   \n",
      "243946              0                      2                  0   \n",
      "243947              0                      0                  0   \n",
      "\n",
      "        more than n question  more than n digit  more than n money  \\\n",
      "0                          1                  1                  1   \n",
      "1                          1                  1                  1   \n",
      "2                          1                  1                  1   \n",
      "3                          1                  1                  1   \n",
      "4                          1                  1                  1   \n",
      "...                      ...                ...                ...   \n",
      "243943                     1                  0                  1   \n",
      "243944                     1                  0                  1   \n",
      "243945                     1                  1                  1   \n",
      "243946                     1                  0                  1   \n",
      "243947                     1                  1                  1   \n",
      "\n",
      "        more than n colon  \n",
      "0                       1  \n",
      "1                       1  \n",
      "2                       1  \n",
      "3                       1  \n",
      "4                       1  \n",
      "...                   ...  \n",
      "243943                  1  \n",
      "243944                  1  \n",
      "243945                  1  \n",
      "243946                  1  \n",
      "243947                  1  \n",
      "\n",
      "[243948 rows x 13 columns]\n"
     ]
    }
   ],
   "source": [
    "selected_features = [\n",
    "                     \"more than n punc\",\n",
    "                     \"more than n words\",\n",
    "                     \"more than n capital\",\n",
    "                     \"more than n common\",\n",
    "                     \"more than n period\",\n",
    "                     \"more than n equal\",\n",
    "                     \"more than n (\",\n",
    "                     \"more than n quotation\",\n",
    "                     \"more than n space\",\n",
    "                     \"more than n question\",\n",
    "                     \"more than n digit\",\n",
    "                     \"more than n money\",\n",
    "                     \"more than n colon\",\n",
    "                     ]\n",
    "\n",
    "print(train[selected_features])"
   ]
  },
  {
   "cell_type": "code",
   "execution_count": 12,
   "metadata": {
    "id": "FWeeyHj38rFq"
   },
   "outputs": [],
   "source": [
    "y_pred = bnb.fit(train[selected_features], train['label']).predict(test[selected_features])"
   ]
  },
  {
   "cell_type": "markdown",
   "metadata": {
    "id": "43FpNagS8rFr"
   },
   "source": [
    "## Test\n",
    "Test the model and get the accuracy of the prediction on testing data. \n",
    "\n",
    "There're four baselines for this task:\n",
    "```\n",
    "1. simple baseline: 0.65\n",
    "2. medium baseline: 0.72\n",
    "3. strong baseline: 0.8\n",
    "4. boss baseline: 0.85\n",
    "```\n",
    "The more the baseline you pass, the more higher the grade you can get.\n",
    "\n",
    "*hint: If the result isn't ideal, you can print the wrong prediction data and re-observe but only focus on wrong data to extract other features."
   ]
  },
  {
   "cell_type": "code",
   "execution_count": 13,
   "metadata": {
    "id": "FYOHrFtk8rFr",
    "outputId": "39a87798-7645-4a14-a98a-856dedc5c8ef"
   },
   "outputs": [
    {
     "name": "stdout",
     "output_type": "stream",
     "text": [
      "0.8043250327653997\n"
     ]
    }
   ],
   "source": [
    "print((test['label'] == y_pred).sum() / len(test))"
   ]
  },
  {
   "cell_type": "markdown",
   "metadata": {
    "id": "pLkF-92v8rFr"
   },
   "source": [
    "## TA's Notes\n",
    "\n",
    "If you complete the Assignment, please use [this link](https://docs.google.com/spreadsheets/d/1QGeYl5dsD9sFO9SYg4DIKk-xr-yGjRDOOLKZqCLDv2E/edit#gid=1031097651) to reserve demo time.  \n",
    "The score is only given after TAs review your implementation, so <u>**make sure you make a appointment with a TA before you miss the deadline**</u> .  <br>After demo, please upload your assignment to eeclass. You just need to hand in this ipynb file and rename it as XXXXXXXXX(Your student ID).ipynb.\n",
    "<br>Note that **late submission will not be allowed**."
   ]
  }
 ],
 "metadata": {
  "colab": {
   "collapsed_sections": [],
   "name": "Week13_example_sentences_classification.ipynb",
   "provenance": []
  },
  "kernelspec": {
   "display_name": "Python 3",
   "language": "python",
   "name": "python3"
  },
  "language_info": {
   "codemirror_mode": {
    "name": "ipython",
    "version": 3
   },
   "file_extension": ".py",
   "mimetype": "text/x-python",
   "name": "python",
   "nbconvert_exporter": "python",
   "pygments_lexer": "ipython3",
   "version": "3.6.13"
  }
 },
 "nbformat": 4,
 "nbformat_minor": 1
}
