{
 "cells": [
  {
   "cell_type": "markdown",
   "id": "infectious-buddy",
   "metadata": {},
   "source": [
    "# Week 14: Senquence Classification with BERT\n",
    "\n",
    "The assignment this week is to do the senquence classification. This may sound like what we had done in the previous assignment, but we are using BERT as our classifier this week, rather than Machine Learning.\n",
    "\n",
    "The objective is to judge the CEFR level of a sentence.  \n",
    "[CEFR](https://www.cambridgeenglish.org/exams-and-tests/cefr/) is a standard for describing language ability of a person. It consists of 6 levels, A1, A2, B1, B2, C1, and C2, going from easier to harder.  \n",
    "A dataset that contains sentences with the corresponding CEFR level is provided, and you have to use BERT and train a sentence classifier with this dataset.  \n",
    "The dataset is collected and processed from a research by Alison Chi, 李書卉, 李冠霖 and Prof. Chang. Thank you all for allowing us to use it in the lecture.\n",
    "\n",
    "As to the implementatin, we will introduce you the [🤗 transformers](https://huggingface.co/) library, which is mantained by huggingface company, as the training framework this week. [Pytorch](https://pytorch.org/) is used as the deep learning backend in this tutorial, but with the transformers library, all codes can be easily changed to tensorflow if you prefer so.  "
   ]
  },
  {
   "cell_type": "markdown",
   "id": "given-speaker",
   "metadata": {},
   "source": [
    "## Prepare your environment\n",
    "\n",
    "Again, we highly recommend you to install all packages with a virtual environment manager, like [venv](https://packaging.python.org/en/latest/guides/installing-using-pip-and-virtual-environments/) or [conda](https://docs.conda.io/projects/conda/en/latest/user-guide/getting-started.html), to prevent version conflicts of different packages.  \n",
    "\n",
    "If you haven't used it before and don't know which to use, I would suggest you start with [mamba](https://github.com/mamba-org/mamba#installation) or [mambaforge](https://github.com/conda-forge/miniforge#mambaforge)."
   ]
  },
  {
   "cell_type": "markdown",
   "id": "d2b9c26f",
   "metadata": {},
   "source": [
    "### Install CUDA\n",
    "\n",
    "Deep learning is a computionally extensive process. It takes lots of time if relying only on the CPU, especially when it's trained on a large dataset. That's why using GPU instead is generally recommended.  \n",
    "To use GPU for computation, you have to install [CUDA toolkit](https://developer.nvidia.com/cuda-toolkit) as well as the [cuDNN library](https://developer.nvidia.com/cudnn) provided by NVIDIA.  \n",
    "\n",
    "If you already had CUDA installed on your machine, then great! You're done here.  \n",
    "If you don't, you can refer to [Appendix 1](#Appendix-1-Install-CUDA) to see how to do so."
   ]
  },
  {
   "cell_type": "markdown",
   "id": "f08c0036",
   "metadata": {},
   "source": [
    "### Install python packages\n",
    "\n",
    "Dependencies:\n",
    "\n",
    "1. `numpy`: for matrix operation\n",
    "2. `scikit-learn`: for label encoding\n",
    "3. `datasets`: for data preparation\n",
    "4. `transformers`: for model loading and finetuing\n",
    "5. (choose one) `tensorflow` / `pytorch`: the backend DL framework\n",
    "   - Note that the tf/pt version must support the CUDA version you've installed if you want to use GPU.\n"
   ]
  },
  {
   "cell_type": "markdown",
   "id": "8e18cc24",
   "metadata": {},
   "source": [
    "### Select GPU(s) for your backend\n",
    "\n",
    "Skip this section if you have no intension of using GPU with tensorflow/pytorch."
   ]
  },
  {
   "cell_type": "code",
   "execution_count": 1,
   "id": "a2c2f1f2",
   "metadata": {},
   "outputs": [],
   "source": [
    "import os\n",
    "\n",
    "# select your GPU. Note that this should be set before you load tensorflow or pytorch.\n",
    "os.environ['CUDA_VISIBLE_DEVICES'] = '0'\n",
    "\n",
    "# To use multiple GPUs, combine all GPU ID with commas\n",
    "# e.g. >>> os.environ['CUDA_VISIBLE_DEVICES'] = '0,1,3'"
   ]
  },
  {
   "cell_type": "markdown",
   "id": "19aa1f9c",
   "metadata": {},
   "source": [
    "#### >> Check Pytorch"
   ]
  },
  {
   "cell_type": "code",
   "execution_count": 2,
   "id": "254c8721",
   "metadata": {},
   "outputs": [
    {
     "data": {
      "text/plain": [
       "True"
      ]
     },
     "execution_count": 2,
     "metadata": {},
     "output_type": "execute_result"
    }
   ],
   "source": [
    "import torch\n",
    "# Check if any GPU is used\n",
    "torch.cuda.is_available()"
   ]
  },
  {
   "cell_type": "markdown",
   "id": "3d69ce74",
   "metadata": {},
   "source": [
    "#### >> Check Tensorflow"
   ]
  },
  {
   "cell_type": "code",
   "execution_count": 3,
   "id": "6e144684",
   "metadata": {},
   "outputs": [
    {
     "data": {
      "text/plain": [
       "[PhysicalDevice(name='/physical_device:CPU:0', device_type='CPU')]"
      ]
     },
     "execution_count": 3,
     "metadata": {},
     "output_type": "execute_result"
    }
   ],
   "source": [
    "import tensorflow as tf\n",
    "# Check if your GPU(s) is(are) listed below \n",
    "tf.config.list_physical_devices()"
   ]
  },
  {
   "cell_type": "markdown",
   "id": "small-radio",
   "metadata": {},
   "source": [
    "## Prepare the dataset\n",
    "\n",
    "Before starting the training, of course we need to load and process our dataset - but wait a sec. Let's decide which model we want to use first.  \n",
    "\n",
    "In case you are not familiar with it, [BERT](https://arxiv.org/abs/1810.04805) (**B**idirectional **E**ncoder **R**epresentations from **T**ransformers) is a language model proposed by Google AI in 2018, and it's one of the most popular models used in NLP area.  \n",
    "However, we will not directly use BERT in this tutorial, because it's large and needs plenty of time to train. Instead, we are using [DistilBert](https://medium.com/huggingface/distilbert-8cf3380435b5) this week.  \n",
    "\n",
    "DistilBERT is a distilled (蒸餾) version of BERT that is much more light-weighted than original model while reserving 95% of its original accuracy, which makes it perfect for our task today.  \n",
    "\n",
    "Further Reading:\n",
    " - [BERT Explained: A Complete Guide with Theory and Tutorial](https://towardsml.com/2019/09/17/bert-explained-a-complete-guide-with-theory-and-tutorial/) by Samia, 2019.\n",
    " - [進擊的 BERT：NLP 界的巨人之力與遷移學習](https://leemeng.tw/attack_on_bert_transfer_learning_in_nlp.html) by 李孟, 2019"
   ]
  },
  {
   "cell_type": "code",
   "execution_count": 4,
   "id": "manufactured-disney",
   "metadata": {},
   "outputs": [],
   "source": [
    "# the model you want to use. Available models can be found here: https://huggingface.co/models\n",
    "MODEL_NAME = 'distilbert-base-uncased'"
   ]
  },
  {
   "cell_type": "markdown",
   "id": "prerequisite-woman",
   "metadata": {},
   "source": [
    "### Load data\n",
    "\n",
    "Similar to `transformers` library, `datasets` is also a package provided by huggingface. It contains many public datasets online and can help us with the data processing.  \n",
    "We can use `load_dataset` function to read the input `.csv` file.\n",
    "\n",
    "Reference:\n",
    " - [Official datasets document](https://huggingface.co/docs/datasets)\n",
    " - [datasets.load_dataset](https://huggingface.co/docs/datasets/loading.html)"
   ]
  },
  {
   "cell_type": "code",
   "execution_count": 5,
   "id": "personalized-tourist",
   "metadata": {},
   "outputs": [],
   "source": [
    "import os\n",
    "from datasets import load_dataset"
   ]
  },
  {
   "cell_type": "code",
   "execution_count": 6,
   "id": "minute-tension",
   "metadata": {},
   "outputs": [
    {
     "name": "stderr",
     "output_type": "stream",
     "text": [
      "Using custom data configuration default-12e8b01337030d32\n",
      "Reusing dataset csv (/home/stanley/.cache/huggingface/datasets/csv/default-12e8b01337030d32/0.0.0/bf68a4c4aefa545d0712b2fcbb1b327f905bbe2f6425fbc5e8c25234acb9e14a)\n"
     ]
    },
    {
     "data": {
      "application/vnd.jupyter.widget-view+json": {
       "model_id": "c2feaca9116040e8b96c4ee201e657fe",
       "version_major": 2,
       "version_minor": 0
      },
      "text/plain": [
       "  0%|          | 0/1 [00:00<?, ?it/s]"
      ]
     },
     "metadata": {},
     "output_type": "display_data"
    }
   ],
   "source": [
    "dataset = load_dataset('csv', data_files='data/evp.train.csv')"
   ]
  },
  {
   "cell_type": "code",
   "execution_count": 7,
   "id": "3ccd2ace",
   "metadata": {},
   "outputs": [
    {
     "name": "stdout",
     "output_type": "stream",
     "text": [
      "Dataset({\n",
      "    features: ['text', 'level'],\n",
      "    num_rows: 20720\n",
      "})\n",
      "{'text': 'You can contact me by e-mail.', 'level': 'A1'}\n",
      "['My mother is having her car repaired.', 'You can contact me by e-mail.', 'He had a break for the weekend, and he called me: \"I am in London, so, if you want to see me, it\\'s the time!\"', \"Research shows that 40 percent of the program's viewers are aged over 55.\", \"I'd guess she's about my age.\"]\n"
     ]
    }
   ],
   "source": [
    "# Take a look at the data structure\n",
    "print(dataset['train'])\n",
    "print(dataset['train'][1])\n",
    "print(dataset['train']['text'][:5])"
   ]
  },
  {
   "cell_type": "markdown",
   "id": "dabc16be",
   "metadata": {},
   "source": [
    "### Preprocessing\n",
    "\n",
    "Same as before, texts should be tokenized, embedded, and padded before put into the model.  \n",
    "But don't worry, with the libraries from huggingface, the procedure is much easier now."
   ]
  },
  {
   "cell_type": "markdown",
   "id": "1302e662",
   "metadata": {},
   "source": [
    "#### Sentence processing\n",
    "\n",
    "Different pre-trained language models may have their own preprocessing models, and that's why we should use the tokenizers trained along with that model. In our case, we are using distilBERT, so we should use the distilBERT tokenizer.  \n",
    "\n",
    "With huggingface, loading different tokenizer is extremely easy: just import the AutoTokenizer from `transformers` and tell it what model you plan to use, and it will handle everything for you.\n",
    "\n",
    "Reference:\n",
    " - [transformers.AutoTokenizer](https://huggingface.co/docs/transformers/master/en/model_doc/auto#transformers.AutoTokenizer)"
   ]
  },
  {
   "cell_type": "code",
   "execution_count": 8,
   "id": "831e6af0",
   "metadata": {},
   "outputs": [],
   "source": [
    "# from transformers import AutoTokenizer # For tokenization\n",
    "from transformers import AutoTokenizer, DistilBertTokenizer\n",
    "\n",
    "tokenizer = AutoTokenizer.from_pretrained(MODEL_NAME)\n",
    "# tokenizer = DistilBertTokenizer.from_pretrained(MODEL_NAME)"
   ]
  },
  {
   "cell_type": "markdown",
   "id": "6323c2f3",
   "metadata": {},
   "source": [
    "#### Play with BERTTokenizer\n",
    "\n",
    "<small><i>*You can safely skip this section if you're already familar with BERTTokenizer.</i></small>"
   ]
  },
  {
   "cell_type": "markdown",
   "id": "2c8b908a",
   "metadata": {},
   "source": [
    "Let's play with this tokenizer a little bit before we go on.\n",
    "\n",
    "Using this tokenizer is pretty easy: just call this object, and it processes the sentences for you.  "
   ]
  },
  {
   "cell_type": "code",
   "execution_count": 9,
   "id": "3f39baab",
   "metadata": {},
   "outputs": [
    {
     "data": {
      "text/plain": [
       "{'input_ids': [101, 2023, 2061, 1011, 2170, 1000, 3819, 3944, 1000, 2001, 2061, 15640, 1010, 2004, 2092, 2004, 12532, 4648, 4726, 2149, 2013, 2746, 2000, 2115, 4418, 3004, 2153, 1012, 102], 'attention_mask': [1, 1, 1, 1, 1, 1, 1, 1, 1, 1, 1, 1, 1, 1, 1, 1, 1, 1, 1, 1, 1, 1, 1, 1, 1, 1, 1, 1, 1]}"
      ]
     },
     "execution_count": 9,
     "metadata": {},
     "output_type": "execute_result"
    }
   ],
   "source": [
    "example = \"This so-called \\\"Perfect Evening\\\" was so disappointing, as well as discouraging us from coming to your Circle Theatre again.\"\n",
    "\n",
    "embeddings = tokenizer(example)\n",
    "embeddings"
   ]
  },
  {
   "cell_type": "markdown",
   "id": "4040ddd8",
   "metadata": {},
   "source": [
    "As you can see, the sentence has already been tokenized and embedded. A default attention mask is returned as well.  \n",
    "\n",
    "To get the token back is easy as well!"
   ]
  },
  {
   "cell_type": "code",
   "execution_count": 10,
   "id": "033ecb19",
   "metadata": {},
   "outputs": [
    {
     "name": "stdout",
     "output_type": "stream",
     "text": [
      "[CLS] this so - called \" perfect evening \" was so disappointing , as well as disco ##ura ##ging us from coming to your circle theatre again . [SEP]\n"
     ]
    }
   ],
   "source": [
    "decoded_tokens = tokenizer.batch_decode(embeddings['input_ids'])\n",
    "print(' '.join(decoded_tokens))"
   ]
  },
  {
   "cell_type": "markdown",
   "id": "5f093abd",
   "metadata": {},
   "source": [
    "You may notice that there're some weird stuffs appearing in your task, like `[CLS]` or `[SEP]`. The word *discouraging* is even split into `disco` `##ura` and `##ging` .  \n",
    "`[CLS]`, `[SEP]`, `[UKN]` and `[MASK]` are four symbols introduced by BERT, which stand for \"classification\", \"seperator\", \"unknown\" and \"mask\" respectively.  \n",
    "As to `##` thing, it's called a *wordpiece*, which is a concept [also brought out by Google](https://arxiv.org/abs/1609.08144). The key idea is to split words into common sub-word units, so the number of rare words can significantly decrease.\n",
    "\n",
    "Besides simply tokenizing a sentence, there are also many parameters you can set. You can play with it a bit, changing the parameters and observe the difference.\n",
    "\n",
    "Document:\n",
    " - [transformers.Tokenizer](https://huggingface.co/docs/transformers/main_classes/tokenizer#transformers.PreTrainedTokenizer)"
   ]
  },
  {
   "cell_type": "code",
   "execution_count": 11,
   "id": "1118f333",
   "metadata": {},
   "outputs": [
    {
     "data": {
      "text/plain": [
       "{'input_ids': tensor([[  101,  2023,  2061,  1011,  2170,  1000,  3819,  3944,  1000,  2001,\n",
       "          2061, 15640,  1010,  2004,  2092,  2004, 12532,  4648,  4726,  2149,\n",
       "          2013,  2746,  2000,  2115,  4418,  3004,  2153,  1012,   102]]), 'attention_mask': tensor([[1, 1, 1, 1, 1, 1, 1, 1, 1, 1, 1, 1, 1, 1, 1, 1, 1, 1, 1, 1, 1, 1, 1, 1,\n",
       "         1, 1, 1, 1, 1]])}"
      ]
     },
     "execution_count": 11,
     "metadata": {},
     "output_type": "execute_result"
    }
   ],
   "source": [
    "# EXAMPLE: directly transform into embedding tensor\n",
    "embeddings = tokenizer(example,\n",
    "                       # padding='longest',         # padding strategy\n",
    "                       # max_length=10,             # how long to pad sentences\n",
    "                       is_split_into_words=False,\n",
    "                       truncation=True,\n",
    "                       return_tensors='pt',         # 'tf' for tensofrlow, 'pt' for pytorch, 'np' for numpy\n",
    "                       # return_length=True         # whether to return length\n",
    "                       # Any other parameters you want to try\n",
    "                      )\n",
    "embeddings"
   ]
  },
  {
   "cell_type": "markdown",
   "id": "0e667000",
   "metadata": {},
   "source": [
    "#### Label processing\n",
    "\n",
    "Before we start to process sentences in the whole dataset, don't forget we need to process labels as well.\n",
    "\n",
    "In the following section, I will introduce you the OneHotEncoder provided by scikit-learn.\n",
    "\n",
    "Documents:\n",
    " - [sklearn.preprocessing.OneHotEncoder](https://scikit-learn.org/stable/modules/generated/sklearn.preprocessing.OneHotEncoder)"
   ]
  },
  {
   "cell_type": "code",
   "execution_count": 12,
   "id": "135b2f93",
   "metadata": {},
   "outputs": [],
   "source": [
    "import numpy as np\n",
    "from sklearn.preprocessing import OneHotEncoder\n",
    "\n",
    "# First, declare a new encoder\n",
    "encoder = OneHotEncoder(sparse = False)\n",
    "# Then, let the encoder learns all features in the given dataset\n",
    "# Keep in mind that all `fit` functions in sklearn only make the encoder learn from the data, not transforming the data yet.\n",
    "encoder = encoder.fit(np.reshape(dataset['train']['level'], (-1, 1)))"
   ]
  },
  {
   "cell_type": "code",
   "execution_count": 13,
   "id": "3b71cc7f",
   "metadata": {},
   "outputs": [
    {
     "name": "stdout",
     "output_type": "stream",
     "text": [
      "6\n"
     ]
    }
   ],
   "source": [
    "LABEL_COUNT = len(encoder.categories_[0])\n",
    "print(LABEL_COUNT)"
   ]
  },
  {
   "cell_type": "markdown",
   "id": "068f7e29",
   "metadata": {},
   "source": [
    "#### Play with OneHotEncoder\n",
    "\n",
    "<small><i>*You can safely skip this section if you're already familar with sklearn.</i></small>"
   ]
  },
  {
   "cell_type": "markdown",
   "id": "03b30ebc",
   "metadata": {},
   "source": [
    "One thing you should always keep in mind is: features learned by OneHotEncoder are always treated as arrays, because it allows multi-field features. (See its [document](https://scikit-learn.org/stable/modules/generated/sklearn.preprocessing.OneHotEncoder) for an example)  \n",
    "That's why you have to reshape the level into (-1, 1), i.e. from `['A1', 'B1', 'C1', ...]` to `[['A1'], ['B1'], ['C1'], ...]` ."
   ]
  },
  {
   "cell_type": "code",
   "execution_count": 14,
   "id": "f4a89d9a",
   "metadata": {},
   "outputs": [
    {
     "name": "stdout",
     "output_type": "stream",
     "text": [
      "[array(['A1', 'A2', 'B1', 'B2', 'C1', 'C2'], dtype='<U2')]\n"
     ]
    }
   ],
   "source": [
    "# Let's see what features has the encoder captured\n",
    "print(encoder.categories_)"
   ]
  },
  {
   "cell_type": "code",
   "execution_count": 15,
   "id": "63ee709d",
   "metadata": {},
   "outputs": [
    {
     "name": "stdout",
     "output_type": "stream",
     "text": [
      "[[0. 0. 1. 0. 0. 0.]\n",
      " [0. 0. 0. 0. 0. 1.]]\n"
     ]
    }
   ],
   "source": [
    "# use `encoder.transform` to get the one-hot code of a label\n",
    "print(encoder.transform([['B1'], ['C2']]))"
   ]
  },
  {
   "cell_type": "code",
   "execution_count": 16,
   "id": "a9501dac",
   "metadata": {},
   "outputs": [
    {
     "name": "stdout",
     "output_type": "stream",
     "text": [
      "[['B1']]\n"
     ]
    }
   ],
   "source": [
    "# To decode, use `encoder.inverse_transform` instead\n",
    "print(encoder.inverse_transform([[0, 0, 1, 0, 0, 0]]))"
   ]
  },
  {
   "cell_type": "markdown",
   "id": "72153561",
   "metadata": {},
   "source": [
    "#### [ TODO ] Process the data\n",
    "\n",
    "With the tokenizor and encoder prepared, we can write a function to process our dataset!"
   ]
  },
  {
   "cell_type": "code",
   "execution_count": 17,
   "id": "5669f4e7",
   "metadata": {},
   "outputs": [],
   "source": [
    "def preprocess(dataslice):\n",
    "    \"\"\" Input: a batch of your dataset\n",
    "        Example: { 'text': [['sentence1'], ['setence2'], ...],\n",
    "                   'label': ['label1', 'label2', ...] }\n",
    "    \"\"\"\n",
    "    # [ TODO ]\n",
    "    token = tokenizer(dataslice[\"text\"],\n",
    "                      padding='longest',         # padding strategy\n",
    "                      max_length=10,             # how long to pad sentences\n",
    "                      is_split_into_words=False,\n",
    "                      truncation=True,\n",
    "                      return_tensors='np',         # 'tf' for tensofrlow, 'pt' for pytorch, 'np' for numpy\n",
    "                      # return_length=True         # whether to return length\n",
    "                      # Any other parameters you want to try\n",
    "                      )\n",
    "    token.update(label=encoder.transform(np.reshape(dataslice[\"level\"], [-1, 1])))\n",
    "\n",
    "    return token\n",
    "\n",
    "    \"\"\" Output: a batch of processed dataset\n",
    "        Example: { 'input_ids': ...,\n",
    "                   'attention_mask': ...,\n",
    "                   'label': ... }\n",
    "    \"\"\""
   ]
  },
  {
   "cell_type": "markdown",
   "id": "bc612333",
   "metadata": {},
   "source": [
    "Now, map the function to the whole dataset."
   ]
  },
  {
   "cell_type": "code",
   "execution_count": 18,
   "id": "caa298f0",
   "metadata": {},
   "outputs": [
    {
     "name": "stderr",
     "output_type": "stream",
     "text": [
      "Loading cached processed dataset at /home/stanley/.cache/huggingface/datasets/csv/default-12e8b01337030d32/0.0.0/bf68a4c4aefa545d0712b2fcbb1b327f905bbe2f6425fbc5e8c25234acb9e14a/cache-b5ab8f7cf7afdbda.arrow\n"
     ]
    }
   ],
   "source": [
    "processed_data = dataset.map(preprocess,    # your processing function\n",
    "                             batched=True # Process in batches so it can be faster\n",
    "                            )"
   ]
  },
  {
   "cell_type": "code",
   "execution_count": 19,
   "id": "74953918",
   "metadata": {},
   "outputs": [
    {
     "name": "stdout",
     "output_type": "stream",
     "text": [
      "DatasetDict({\n",
      "    train: Dataset({\n",
      "        features: ['attention_mask', 'input_ids', 'label', 'level', 'text'],\n",
      "        num_rows: 20720\n",
      "    })\n",
      "})\n"
     ]
    },
    {
     "data": {
      "text/plain": [
       "{'attention_mask': [1, 1, 1, 1, 1, 1, 1, 1, 1, 1],\n",
       " 'input_ids': [101, 2026, 2388, 2003, 2383, 2014, 2482, 13671, 1012, 102],\n",
       " 'label': [0.0, 0.0, 1.0, 0.0, 0.0, 0.0],\n",
       " 'level': 'B1',\n",
       " 'text': 'My mother is having her car repaired.'}"
      ]
     },
     "execution_count": 19,
     "metadata": {},
     "output_type": "execute_result"
    }
   ],
   "source": [
    "# Take a look at processed dataset\n",
    "print(processed_data)\n",
    "processed_data['train'][0]"
   ]
  },
  {
   "cell_type": "markdown",
   "id": "f670f7c6",
   "metadata": {},
   "source": [
    "### DataCollator\n",
    "\n",
    "You may notice that we didn't pad the sentences in the preprocessing function, because we are going to do it during the training time.  \n",
    "\n",
    "To do the training-time processing, we can use the DataCollator Class provided by `transformers`. What's even better is, transformers already provides a class that handles padding for us!\n",
    "\n",
    " - [transformers.DataCollatorWithPadding](https://huggingface.co/docs/transformers/master/en/main_classes/data_collator#transformers.DataCollatorWithPadding)"
   ]
  },
  {
   "cell_type": "code",
   "execution_count": 20,
   "id": "1add1e45",
   "metadata": {},
   "outputs": [],
   "source": [
    "from transformers import DataCollatorWithPadding\n",
    "\n",
    "# declare a collator to do padding during traning.\n",
    "data_collator = DataCollatorWithPadding(tokenizer=tokenizer)"
   ]
  },
  {
   "cell_type": "markdown",
   "id": "be824b94",
   "metadata": {},
   "source": [
    "## Training"
   ]
  },
  {
   "cell_type": "markdown",
   "id": "57154197",
   "metadata": {},
   "source": [
    "### Preparation\n",
    "\n",
    "We can load the pretrained model from `transformers`.  \n",
    "Generally, you need to build your own model on top of BERT if you want to use BERT for some downstream tasks, but again, sequence classification is a popular topic. With the support from `transformers` library, all works can be done in two lines of codes: \n",
    "\n",
    "1. Load `AutoModelForSequenceClassification` Class.\n",
    "2. Load the pretrained model."
   ]
  },
  {
   "cell_type": "code",
   "execution_count": 21,
   "id": "6a09afeb",
   "metadata": {},
   "outputs": [
    {
     "name": "stderr",
     "output_type": "stream",
     "text": [
      "Some weights of the model checkpoint at distilbert-base-uncased were not used when initializing DistilBertForSequenceClassification: ['vocab_layer_norm.bias', 'vocab_transform.bias', 'vocab_transform.weight', 'vocab_layer_norm.weight', 'vocab_projector.weight', 'vocab_projector.bias']\n",
      "- This IS expected if you are initializing DistilBertForSequenceClassification from the checkpoint of a model trained on another task or with another architecture (e.g. initializing a BertForSequenceClassification model from a BertForPreTraining model).\n",
      "- This IS NOT expected if you are initializing DistilBertForSequenceClassification from the checkpoint of a model that you expect to be exactly identical (initializing a BertForSequenceClassification model from a BertForSequenceClassification model).\n",
      "Some weights of DistilBertForSequenceClassification were not initialized from the model checkpoint at distilbert-base-uncased and are newly initialized: ['pre_classifier.bias', 'pre_classifier.weight', 'classifier.weight', 'classifier.bias']\n",
      "You should probably TRAIN this model on a down-stream task to be able to use it for predictions and inference.\n"
     ]
    }
   ],
   "source": [
    "# Change to TFAutoModelForSequenceClassification if you're using tensoflow\n",
    "from transformers import AutoModelForSequenceClassification\n",
    "\n",
    "model = AutoModelForSequenceClassification.from_pretrained(\n",
    "                                                           'distilbert-base-uncased',\n",
    "                                                           num_labels = LABEL_COUNT\n",
    "                                                           )"
   ]
  },
  {
   "cell_type": "markdown",
   "id": "59d085bc",
   "metadata": {},
   "source": [
    "#### [ TODO ] Split train/val data\n",
    "\n",
    "The `Dataset` class we prepared before already has the `train_test_split` method. You can use it to split your dataset.\n",
    "\n",
    "Document:\n",
    " - [datasets.Dataset - Sort, shuffle, select, split, and shard](https://huggingface.co/docs/datasets/process.html#sort-shuffle-select-split-and-shard)\n"
   ]
  },
  {
   "cell_type": "code",
   "execution_count": 22,
   "id": "9352c946",
   "metadata": {},
   "outputs": [
    {
     "name": "stderr",
     "output_type": "stream",
     "text": [
      "Loading cached split indices for dataset at /home/stanley/.cache/huggingface/datasets/csv/default-12e8b01337030d32/0.0.0/bf68a4c4aefa545d0712b2fcbb1b327f905bbe2f6425fbc5e8c25234acb9e14a/cache-779a7602df9e153d.arrow and /home/stanley/.cache/huggingface/datasets/csv/default-12e8b01337030d32/0.0.0/bf68a4c4aefa545d0712b2fcbb1b327f905bbe2f6425fbc5e8c25234acb9e14a/cache-172062ba8f8b04e6.arrow\n"
     ]
    }
   ],
   "source": [
    "# [ TODO ] Choose the validation data size                                v here\n",
    "train_val_dataset = processed_data['train'].train_test_split(test_size = 0.3)"
   ]
  },
  {
   "cell_type": "code",
   "execution_count": 23,
   "id": "545bc915",
   "metadata": {},
   "outputs": [
    {
     "name": "stdout",
     "output_type": "stream",
     "text": [
      "DatasetDict({\n",
      "    train: Dataset({\n",
      "        features: ['attention_mask', 'input_ids', 'label', 'level', 'text'],\n",
      "        num_rows: 14504\n",
      "    })\n",
      "    test: Dataset({\n",
      "        features: ['attention_mask', 'input_ids', 'label', 'level', 'text'],\n",
      "        num_rows: 6216\n",
      "    })\n",
      "})\n"
     ]
    }
   ],
   "source": [
    "# Take a look at split data\n",
    "print(train_val_dataset)"
   ]
  },
  {
   "cell_type": "markdown",
   "id": "a0667bc9",
   "metadata": {},
   "source": [
    "#### [ TODO ] Setup training parameters\n",
    "\n",
    "We are using the TrainerAPI to do the training. Trainer is yet another utility provided by huggingface, which helps you train the model with ease.  \n",
    "\n",
    "Document:\n",
    "- [transformers.TrainingArguments](https://huggingface.co/docs/transformers/master/en/main_classes/trainer#transformers.TrainingArguments)\n",
    "- [transformers.Trainer](https://huggingface.co/docs/transformers/master/en/main_classes/trainer#transformers.Trainer)"
   ]
  },
  {
   "cell_type": "code",
   "execution_count": 24,
   "id": "189a7144",
   "metadata": {},
   "outputs": [],
   "source": [
    "# Change to TFTrainingArguments, TFTrainer if you're using tensoflow\n",
    "from transformers import TrainingArguments, Trainer"
   ]
  },
  {
   "cell_type": "code",
   "execution_count": 25,
   "id": "8bf81339",
   "metadata": {},
   "outputs": [],
   "source": [
    "# [ TODO ] Set and tune your training properties\n",
    "import datetime\n",
    "LEARNING_RATE = 1e-4\n",
    "BATCH_SIZE = 100\n",
    "EPOCH = 20\n",
    "# EPOCH = 50\n",
    "# SAVE_DIR = \"model\" + datetime.datetime.now().strftime(\"%Y%m%d-%H%M%S\")\n",
    "SAVE_DIR = \"model20211221-184821\"\n",
    "training_args = TrainingArguments(\n",
    "    output_dir = SAVE_DIR,\n",
    "    learning_rate = LEARNING_RATE,\n",
    "    per_device_train_batch_size = BATCH_SIZE,\n",
    "    per_device_eval_batch_size = BATCH_SIZE,\n",
    "    num_train_epochs = EPOCH,\n",
    "    # You can also set other parameters here\n",
    ")\n",
    "\n",
    "# Now give all information to a trainer.\n",
    "trainer = Trainer(\n",
    "                  model = model,\n",
    "                  args = training_args,\n",
    "                  train_dataset = train_val_dataset[\"train\"],\n",
    "                  eval_dataset = train_val_dataset[\"test\"],\n",
    "                  tokenizer = tokenizer,\n",
    "                  data_collator = data_collator,\n",
    "                  # You can also set other parameters\n",
    "                  )"
   ]
  },
  {
   "cell_type": "markdown",
   "id": "4abd2b6d",
   "metadata": {},
   "source": [
    "### Training\n",
    "\n",
    "Training is pretty easy. Simply ask the trainer to train the model for you!"
   ]
  },
  {
   "cell_type": "code",
   "execution_count": null,
   "id": "bae54732",
   "metadata": {},
   "outputs": [],
   "source": [
    "trainer.train()"
   ]
  },
  {
   "cell_type": "markdown",
   "id": "8e63e5b3",
   "metadata": {},
   "source": [
    "You can see that Trainer saves some ckeckpoints, so you can load your model from those checkpoints if you want to fallback to a specific version."
   ]
  },
  {
   "cell_type": "markdown",
   "id": "b1501549",
   "metadata": {},
   "source": [
    "### Save for future use"
   ]
  },
  {
   "cell_type": "code",
   "execution_count": null,
   "id": "d400687f",
   "metadata": {},
   "outputs": [],
   "source": [
    "model.save_pretrained(os.path.join(SAVE_DIR, 'finetuned'))"
   ]
  },
  {
   "cell_type": "markdown",
   "id": "5af492d0",
   "metadata": {},
   "source": [
    "## Prediction\n",
    "\n",
    "We've known how to train a model now, but how to really use it for predicting results?"
   ]
  },
  {
   "cell_type": "markdown",
   "id": "5587893d",
   "metadata": {},
   "source": [
    "### Load finetuned model"
   ]
  },
  {
   "cell_type": "code",
   "execution_count": 26,
   "id": "71dc129d",
   "metadata": {},
   "outputs": [
    {
     "name": "stderr",
     "output_type": "stream",
     "text": [
      "loading configuration file model20211221-184821/finetuned/config.json\n",
      "Model config DistilBertConfig {\n",
      "  \"_name_or_path\": \"model20211221-184821/finetuned\",\n",
      "  \"activation\": \"gelu\",\n",
      "  \"architectures\": [\n",
      "    \"DistilBertForSequenceClassification\"\n",
      "  ],\n",
      "  \"attention_dropout\": 0.1,\n",
      "  \"dim\": 768,\n",
      "  \"dropout\": 0.1,\n",
      "  \"hidden_dim\": 3072,\n",
      "  \"id2label\": {\n",
      "    \"0\": \"LABEL_0\",\n",
      "    \"1\": \"LABEL_1\",\n",
      "    \"2\": \"LABEL_2\",\n",
      "    \"3\": \"LABEL_3\",\n",
      "    \"4\": \"LABEL_4\",\n",
      "    \"5\": \"LABEL_5\"\n",
      "  },\n",
      "  \"initializer_range\": 0.02,\n",
      "  \"label2id\": {\n",
      "    \"LABEL_0\": 0,\n",
      "    \"LABEL_1\": 1,\n",
      "    \"LABEL_2\": 2,\n",
      "    \"LABEL_3\": 3,\n",
      "    \"LABEL_4\": 4,\n",
      "    \"LABEL_5\": 5\n",
      "  },\n",
      "  \"max_position_embeddings\": 512,\n",
      "  \"model_type\": \"distilbert\",\n",
      "  \"n_heads\": 12,\n",
      "  \"n_layers\": 6,\n",
      "  \"pad_token_id\": 0,\n",
      "  \"problem_type\": \"multi_label_classification\",\n",
      "  \"qa_dropout\": 0.1,\n",
      "  \"seq_classif_dropout\": 0.2,\n",
      "  \"sinusoidal_pos_embds\": false,\n",
      "  \"tie_weights_\": true,\n",
      "  \"torch_dtype\": \"float32\",\n",
      "  \"transformers_version\": \"4.14.1\",\n",
      "  \"vocab_size\": 30522\n",
      "}\n",
      "\n",
      "loading weights file model20211221-184821/finetuned/pytorch_model.bin\n",
      "All model checkpoint weights were used when initializing DistilBertForSequenceClassification.\n",
      "\n",
      "All the weights of DistilBertForSequenceClassification were initialized from the model checkpoint at model20211221-184821/finetuned.\n",
      "If your task is similar to the task the model of the checkpoint was trained on, you can already use DistilBertForSequenceClassification for predictions without further training.\n"
     ]
    }
   ],
   "source": [
    "# Same, change to TFxxxxxx if you are using tensorflow\n",
    "from transformers import AutoModelForSequenceClassification\n",
    "\n",
    "mymodel = AutoModelForSequenceClassification.from_pretrained(os.path.join(SAVE_DIR, 'finetuned'))"
   ]
  },
  {
   "cell_type": "markdown",
   "id": "1583078f",
   "metadata": {},
   "source": [
    "### Get the prediction"
   ]
  },
  {
   "cell_type": "markdown",
   "id": "872d987e",
   "metadata": {},
   "source": [
    "Given six example sentences..."
   ]
  },
  {
   "cell_type": "code",
   "execution_count": 27,
   "id": "5623b71a",
   "metadata": {},
   "outputs": [],
   "source": [
    "examples = [\n",
    "    # A2\n",
    "    \"Remember to write me a letter.\",\n",
    "    # B2\n",
    "    \"Strawberries and cream - a perfect combination.\",\n",
    "    \"This so-called \\\"Perfect Evening\\\" was so disappointing, as well as discouraging us from coming to your Circle Theatre again.\",\n",
    "    # C1\n",
    "    \"Some may altogether give up their studies, which I think is a disastrous move.\",\n",
    "]"
   ]
  },
  {
   "cell_type": "markdown",
   "id": "cc10a6dd",
   "metadata": {},
   "source": [
    "...all you need to do is to transform them to embeddings, and then you can get predictions by calling your finetuned model.  \n",
    "\n",
    "Note that, since you don't have a DataCollator to pad the sentence and do the matrix transformation for you, you have to pad and transform the matrice on your own."
   ]
  },
  {
   "cell_type": "code",
   "execution_count": 28,
   "id": "e2276924",
   "metadata": {},
   "outputs": [
    {
     "name": "stdout",
     "output_type": "stream",
     "text": [
      "<class 'list'>\n",
      "<class 'transformers.tokenization_utils_base.BatchEncoding'>\n"
     ]
    },
    {
     "data": {
      "text/plain": [
       "tensor([[  5.1387,  -7.6938,  -7.1131,  -5.3823,  -7.2155,  -7.5421],\n",
       "        [-10.3474,  -9.7681,  -8.3700,   7.3425,  -8.3466,  -8.9478],\n",
       "        [-11.2940,  -9.6366,  -9.1688,  -5.8705,   6.6095,  -8.7765],\n",
       "        [-10.2510,  -9.8868,  -8.6584,   7.9723,  -9.5641,  -9.1356]],\n",
       "       grad_fn=<AddmmBackward0>)"
      ]
     },
     "execution_count": 28,
     "metadata": {},
     "output_type": "execute_result"
    }
   ],
   "source": [
    "# Transform the sentences into embeddings\n",
    "print(type(examples))\n",
    "input = tokenizer(examples, truncation=True, padding=True, return_tensors=\"pt\") # change return_tensors if youre using tensorflow\n",
    "print(type(input))\n",
    "# Get the output\n",
    "logits = mymodel(**input).logits\n",
    "logits"
   ]
  },
  {
   "cell_type": "markdown",
   "id": "b7e1e99d",
   "metadata": {},
   "source": [
    "Logits aren't very readable for us. Let's use softmax activation to transform them into more probability-like numbers."
   ]
  },
  {
   "cell_type": "code",
   "execution_count": 29,
   "id": "a2ea86b4",
   "metadata": {},
   "outputs": [
    {
     "data": {
      "text/plain": [
       "tensor([[9.9996e-01, 2.6723e-06, 4.7762e-06, 2.6961e-05, 4.3112e-06, 3.1100e-06],\n",
       "        [2.0767e-08, 3.7064e-08, 1.5001e-07, 1.0000e+00, 1.5357e-07, 8.4176e-08],\n",
       "        [1.6773e-08, 8.7986e-08, 1.4047e-07, 3.8021e-06, 1.0000e+00, 2.0795e-07],\n",
       "        [1.2182e-08, 1.7534e-08, 5.9893e-08, 1.0000e+00, 2.4212e-08, 3.7165e-08]],\n",
       "       grad_fn=<SoftmaxBackward0>)"
      ]
     },
     "execution_count": 29,
     "metadata": {},
     "output_type": "execute_result"
    }
   ],
   "source": [
    "# Or `from tensorflow import nn` and `nn.softmax`\n",
    "from torch import nn\n",
    "\n",
    "predicts = nn.functional.softmax(logits, dim=-1)\n",
    "predicts"
   ]
  },
  {
   "cell_type": "markdown",
   "id": "c0a08934",
   "metadata": {},
   "source": [
    "#### [ TODO ] transform logits back to labels\n",
    "\n",
    "Now you've got the output. Write a function to map it back into labels!"
   ]
  },
  {
   "cell_type": "code",
   "execution_count": 30,
   "id": "f6fba1d4",
   "metadata": {},
   "outputs": [
    {
     "name": "stdout",
     "output_type": "stream",
     "text": [
      "[['A1']\n",
      " ['B2']\n",
      " ['C1']\n",
      " ['B2']]\n"
     ]
    }
   ],
   "source": [
    "# [ TODO ] try to process the result\n",
    "def output_process(output):\n",
    "    return encoder.inverse_transform(torch.nn.functional.one_hot(output.max(axis=1).indices, output.shape[1]))\n",
    "pred_label = output_process(predicts)\n",
    "print(pred_label)"
   ]
  },
  {
   "cell_type": "markdown",
   "id": "86ec453e",
   "metadata": {},
   "source": [
    "## [ TODO ] Evaluation\n",
    "\n",
    "It's your turn!  \n",
    "Load the testing data and calculate your accuracy.\n",
    "\n",
    "We want you to calculate two kinds of accuracy, exact accuracy and fuzzy accuracy, which will be explained in the following section.\n"
   ]
  },
  {
   "cell_type": "code",
   "execution_count": 31,
   "id": "f9c92380",
   "metadata": {},
   "outputs": [
    {
     "name": "stderr",
     "output_type": "stream",
     "text": [
      "Using custom data configuration default-39768cb7384fdb04\n",
      "Reusing dataset csv (/home/stanley/.cache/huggingface/datasets/csv/default-39768cb7384fdb04/0.0.0/bf68a4c4aefa545d0712b2fcbb1b327f905bbe2f6425fbc5e8c25234acb9e14a)\n"
     ]
    },
    {
     "data": {
      "application/vnd.jupyter.widget-view+json": {
       "model_id": "151b7a16e4614d799aa60679a0b6328a",
       "version_major": 2,
       "version_minor": 0
      },
      "text/plain": [
       "  0%|          | 0/1 [00:00<?, ?it/s]"
      ]
     },
     "metadata": {},
     "output_type": "display_data"
    }
   ],
   "source": [
    "# [ TODO ] \n",
    "# load test data\n",
    "# preprocess\n",
    "# get predictions\n",
    "# transform predictions back into labels\n",
    "testdata = load_dataset('csv', data_files='data/evp.test.csv')\n",
    "outputs = [nn.functional.softmax(mymodel(**tokenizer(t, truncation=True, padding=True, return_tensors=\"pt\")).logits, dim=-1) for t in testdata['train']['text']]\n",
    "out = torch.reshape(torch.stack(outputs).view(-1), (-1, 6))\n",
    "pred_output = output_process(out)"
   ]
  },
  {
   "cell_type": "code",
   "execution_count": 32,
   "id": "6ea8f8ac",
   "metadata": {},
   "outputs": [
    {
     "name": "stdout",
     "output_type": "stream",
     "text": [
      "label = C2, prediction = C2\n",
      "label = B2, prediction = B2\n",
      "label = B2, prediction = B2\n",
      "label = B2, prediction = C2\n",
      "label = C1, prediction = C1\n",
      "label = A1, prediction = A2\n",
      "label = A2, prediction = B1\n",
      "label = B2, prediction = B2\n",
      "label = A2, prediction = A2\n",
      "label = C2, prediction = C1\n"
     ]
    }
   ],
   "source": [
    "# we still recommend you to print out some predictions to check if the outputs are resonable and if you need to adjust your model at the end of every step.\n",
    "for idx, (sent, level) in enumerate(zip(testdata[\"train\"]['level'], pred_output)):\n",
    "    if idx >= 10: break\n",
    "    print(f'label = {level[0]}, prediction = {sent}')"
   ]
  },
  {
   "cell_type": "markdown",
   "id": "e4cef45a",
   "metadata": {},
   "source": [
    "### Six Level Accuracy\n",
    "\n",
    "Exact accuracy is what you've been familiar with:\n",
    "\n",
    "$\n",
    "accuracy = \\frac{\\#exactly\\:the\\:same\\:levels}{\\#total}\n",
    "$\n",
    "\n",
    "Example:\n",
    "```\n",
    "Prediction:   A1 A2 B1 B2 C1 C2\n",
    "Ground truth: A2 B1 B1 B2 B2 C2\n",
    "                    ^  ^     ^\n",
    "```\n",
    "\n",
    "The six level accuracy is $\\frac{3}{6} = 0.5$\n",
    "\n",
    "As the requirement, <u>your exact accuracy should be higher than $0.5$</u>."
   ]
  },
  {
   "cell_type": "code",
   "execution_count": 33,
   "id": "6545d339",
   "metadata": {},
   "outputs": [
    {
     "name": "stdout",
     "output_type": "stream",
     "text": [
      "Six Level Accuracy = 0.501\n"
     ]
    }
   ],
   "source": [
    "# [ TODO ] calculate accuracy\n",
    "correct, total = 0, 0\n",
    "for (label, pred) in zip(testdata[\"train\"]['level'], pred_output):\n",
    "    if label == pred[0]: correct += 1\n",
    "    total += 1\n",
    "print(\"Six Level Accuracy = {:.3f}\".format(correct / total))"
   ]
  },
  {
   "cell_type": "markdown",
   "id": "edaa2778",
   "metadata": {},
   "source": [
    "### [ TODO ] Three Level Accuracy\n",
    "\n",
    "Three Level Accuracy is used when you only want the general of right or wrong.\n",
    "\n",
    "$\n",
    "accuracy = \\frac{\\#the\\:same\\:ABC\\:levels}{\\#total}\n",
    "$\n",
    "\n",
    "Example:\n",
    "```\n",
    "Prediction:   A1 A2 B1 B2 C1 C2\n",
    "Ground truth: A2 B1 B1 B2 B2 C2\n",
    "              ^     ^  ^     ^\n",
    "```\n",
    "\n",
    "The six level accuracy is $\\frac{4}{6} = 0.667$\n",
    "\n",
    "As the requirement, <u>your exact accuracy should be higher than $0.6$</u>."
   ]
  },
  {
   "cell_type": "code",
   "execution_count": 34,
   "id": "75bc6232",
   "metadata": {},
   "outputs": [
    {
     "name": "stdout",
     "output_type": "stream",
     "text": [
      "Three Level Accuracy = 0.670\n"
     ]
    }
   ],
   "source": [
    "# [ TODO ] calculate accuracy\n",
    "correct, total = 0, 0\n",
    "for (label, pred) in zip(testdata[\"train\"]['level'], pred_output):\n",
    "    if label[0] == pred[0][0]: correct += 1\n",
    "    total += 1\n",
    "print(\"Three Level Accuracy = {:.3f}\".format(correct / total))"
   ]
  },
  {
   "cell_type": "markdown",
   "id": "1ae91c91",
   "metadata": {},
   "source": [
    "### [ TODO ] Fuzzy accuracy\n",
    "\n",
    "However, the level of a sentence is relatively subjective. Generally speaking, $\\pm1$ errors are allowed in the real evaluation in linguistic area.  \n",
    "\n",
    "For example, if the label is actually 'B1', but the model predicts 'B2', we still consider the prediction good enough, and this also applys when the model predicts 'A2'.\n",
    "\n",
    "Hence, the fuzzy accuracy is\n",
    "\n",
    "$\n",
    "accuracy = \\frac{\\#good\\:enough\\:answers}{\\#total}\n",
    "$\n",
    "\n",
    "Example:\n",
    "```\n",
    "Prediction:   0 1 2 3 4 5\n",
    "Ground truth: 0 1 1 3 3 3\n",
    "              ^ ^ ^ ^ ^\n",
    "```\n",
    "\n",
    "The fuzzy accuracy is $\\frac{5}{6} = 0.833$\n",
    "\n",
    "As the requirement, <u>your accuracy should be higher than $0.8$</u>."
   ]
  },
  {
   "cell_type": "code",
   "execution_count": 35,
   "id": "a5b853c8",
   "metadata": {},
   "outputs": [
    {
     "name": "stdout",
     "output_type": "stream",
     "text": [
      "Fuzzy Accuracy = 0.812\n"
     ]
    }
   ],
   "source": [
    "# [ TODO ] calculate accuracy\n",
    "correct, total = 0, 0\n",
    "for (label, pred) in zip(testdata[\"train\"]['level'], pred_output):\n",
    "    label_onehot, pred_onehot = list(encoder.transform([[label]])[0]), list(encoder.transform([pred])[0])\n",
    "    dis = abs(label_onehot.index(1) - pred_onehot.index(1))\n",
    "    if dis <= 1: correct += 1\n",
    "    total += 1\n",
    "print(\"Fuzzy Accuracy = {:.3f}\".format(correct / total))"
   ]
  },
  {
   "cell_type": "markdown",
   "id": "b404b1bf",
   "metadata": {},
   "source": [
    "## TA's note\n",
    "\n",
    "Congratuation! You've finished the assignment this week.  \n",
    "Don't forget to <b>[make an appoiment with TA](https://docs.google.com/spreadsheets/d/1QGeYl5dsD9sFO9SYg4DIKk-xr-yGjRDOOLKZqCLDv2E/edit#gid=134737606) to demo/explain your implementation <u>before <font color=\"red\">12/23 15:30</font></u></b> .  \n",
    "Also make sure you submit your `{student_id}.ipynb` to [eeclass](https://eeclass.nthu.edu.tw/course/homework/6053).\n",
    "\n",
    "This is the last assignment of this class. A TA will still be at the online classroom and answer your question during the class time in the following weeks, and you can have make-up demos at that time.  \n",
    "Prof. Chang's office hours are in Tues. to Thurs. evenings. You can come to Delta 712 to consult him at that time, but make sure you follow the appointment rules written on the bulletin or [the appointment sheet](https://docs.google.com/spreadsheets/d/1QGeYl5dsD9sFO9SYg4DIKk-xr-yGjRDOOLKZqCLDv2E/edit?usp=sharing).\n",
    "\n",
    "\n"
   ]
  },
  {
   "cell_type": "markdown",
   "id": "e2ab7eb0",
   "metadata": {},
   "source": [
    "## Appendix \n",
    "\n",
    "<a name=\"Appendix-1-Install-CUDA\"></a>\n",
    "\n",
    "### Appendix 1 - Install CUDA\n",
    "\n",
    "1. Check your GPU vs. CUDA compatibility:\n",
    "   - [NVIDIA -> Your GPU Compute Capability](https://developer.nvidia.com/cuda-gpus) -> GeForce and TITAN Products\n",
    "2. Check library vs. CUDA compatibility: \n",
    "   - Pytorch: [Previous PyTorch Versions](https://pytorch.org/get-started/previous-versions/)\n",
    "   - Tensorflow: [Linux/MacOX](https://www.tensorflow.org/install/source#tested_build_configurations) or [Windows](https://www.tensorflow.org/install/source_windows#tested_build_configurations)\n",
    "3. Note the highest CUDA version that fits your system.\n",
    "\n",
    "#### >> for conda/mamba users\n",
    "\n",
    "You can directly install CUDA library with the selected CUDA version.\n",
    "1. Get [the driver for NVIDIA GPU](https://www.nvidia.com/download/index.aspx)\n",
    "2. `conda/mamba install -c conda-forge cudatoolkit=${VERSION}`\n",
    "\n",
    "#### >> for non-conda users\n",
    "\n",
    "1. Get [the driver for NVIDIA GPU](https://www.nvidia.com/download/index.aspx)\n",
    "2. Download and install [CUDA Toolkit](https://developer.nvidia.com/cuda-toolkit-archive)\n",
    "3. Download and install [cuDNN Library](https://developer.nvidia.com/rdp/cudnn-archive)"
   ]
  },
  {
   "cell_type": "markdown",
   "id": "3bb0dd1d",
   "metadata": {},
   "source": [
    "<a name=\"Appendix-2-TAs-Environmental-setup\"></a>\n",
    "\n",
    "### Appendix 2 - TA's Environmental Setup\n",
    "\n",
    "The following is my setup for this notebook. You can refer to it if you encounter some environmental issues.  \n",
    "\n",
    "System: Ubuntu 18.04.6, x64, With GPU support. All packages are installed in new conda environment with channels default to conda-forge.\n",
    "\n",
    "1. Python 3.8.12\n",
    "2. numpy=1.21.2\n",
    "3. cudatoolkit=11.1.74\n",
    "4. pytorch=1.8.2\n",
    "5. datasets=1.16.1\n",
    "6. transformers=4.12.5\n",
    "7. scikit-learn=1.0.1\n",
    "\n",
    "Notes:\n",
    "\n",
    " - conda create -n week14 python=3.8 & conda activate week14\n",
    " - conda config --add channels conda-forge\n",
    " - conda config --set channel_priority strict\n",
    " - conda install pytorch torchvision torchaudio cudatoolkit=11.1 -c pytorch-lts -c nvidia\n",
    " - conda install transformers\n",
    " - conda install datasets scikit-learn\n"
   ]
  },
  {
   "cell_type": "markdown",
   "id": "eaf0f256",
   "metadata": {},
   "source": [
    "### Appendix 3 - Further Readings\n",
    "\n",
    "1. [Huggingface Official Tutorials](https://github.com/huggingface/notebooks/tree/master/examples)\n",
    "2. How to use Bert with other downstream tasks: [How to use BERT from the Hugging Face transformer library](https://towardsdatascience.com/how-to-use-bert-from-the-hugging-face-transformer-library-d373a22b0209): \n",
    "3. Training with pytorch backend: [transformers-tutorials](https://github.com/abhimishra91/transformers-tutorials)\n",
    "4. A more complicated example that include manual data/training processing with Pytorch: [Transformers for Multi-Label Classification made simple](https://towardsdatascience.com/transformers-for-multilabel-classification-71a1a0daf5e1)\n",
    "5. [Text Classification with tensorflow](https://github.com/huggingface/notebooks/blob/master/examples/text_classification-tf.ipynb): tensorflow example"
   ]
  }
 ],
 "metadata": {
  "interpreter": {
   "hash": "b90e39488bbd77f2537ee13ab7864984f9d6efed60d3b540c631de406366ed67"
  },
  "kernelspec": {
   "display_name": "Python 3.9 [base]",
   "language": "python",
   "name": "python3"
  },
  "language_info": {
   "codemirror_mode": {
    "name": "ipython",
    "version": 3
   },
   "file_extension": ".py",
   "mimetype": "text/x-python",
   "name": "python",
   "nbconvert_exporter": "python",
   "pygments_lexer": "ipython3",
   "version": "3.6.13"
  }
 },
 "nbformat": 4,
 "nbformat_minor": 5
}
